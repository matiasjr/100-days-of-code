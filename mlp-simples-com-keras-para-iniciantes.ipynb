{
 "cells": [
  {
   "cell_type": "markdown",
   "metadata": {
    "papermill": {
     "duration": 0.028869,
     "end_time": "2023-07-13T20:55:01.975268",
     "exception": false,
     "start_time": "2023-07-13T20:55:01.946399",
     "status": "completed"
    },
    "tags": []
   },
   "source": [
    "# Introdução"
   ]
  },
  {
   "cell_type": "markdown",
   "metadata": {
    "papermill": {
     "duration": 0.026131,
     "end_time": "2023-07-13T20:55:02.028450",
     "exception": false,
     "start_time": "2023-07-13T20:55:02.002319",
     "status": "completed"
    },
    "tags": []
   },
   "source": [
    "**Resumo:**\n",
    "\n",
    "O exemplo aqui desenvolvido tem como objetivo apresentar conceitos iniciais de implementação de redes neurais com python e tensorflow/keras. Esse modelo apresenta um modelo MLP básico que pode ser expandido mudando o número de neurônios e camadas. Em adaptações mais avançadas, pode-se estudar possibilidade de otimização de hyperparâmetros e outras técnincas como aumento de dados.\n",
    "\n",
    "**Não é objetivo nosso desenvolver e otimizar o modelo de classificação**. O exemplo tem objetivo meramente didático.\n",
    "\n",
    "---\n",
    "\n",
    "**Para saber mais:**\n",
    "* [Palestras e cursos do Ocean](http://www.oceanbrasil.com/)\n",
    "* François Chollet. Deep Learning with Python. Manning Publications, 2017.\n",
    "* Ian Goodfellow and Yoshua Bengio and Aaron Courville. [Deep Learning](https://www.deeplearningbook.org/). MIT Press, 2016."
   ]
  },
  {
   "cell_type": "markdown",
   "metadata": {
    "papermill": {
     "duration": 0.027013,
     "end_time": "2023-07-13T20:55:02.082815",
     "exception": false,
     "start_time": "2023-07-13T20:55:02.055802",
     "status": "completed"
    },
    "tags": []
   },
   "source": [
    "# Bibliotecas e Dados"
   ]
  },
  {
   "cell_type": "code",
   "execution_count": 1,
   "metadata": {
    "ExecuteTime": {
     "end_time": "2019-01-16T20:39:41.500258Z",
     "start_time": "2019-01-16T20:39:39.261856Z"
    },
    "execution": {
     "iopub.execute_input": "2023-07-13T20:55:02.146201Z",
     "iopub.status.busy": "2023-07-13T20:55:02.144922Z",
     "iopub.status.idle": "2023-07-13T20:55:08.737679Z",
     "shell.execute_reply": "2023-07-13T20:55:08.738304Z",
     "shell.execute_reply.started": "2023-07-13T19:46:52.121510Z"
    },
    "papermill": {
     "duration": 6.629622,
     "end_time": "2023-07-13T20:55:08.738558",
     "exception": false,
     "start_time": "2023-07-13T20:55:02.108936",
     "status": "completed"
    },
    "tags": []
   },
   "outputs": [],
   "source": [
    "# Bibliotecas necessárias\n",
    "# Manipulação de dados\n",
    "import pandas as pd\n",
    "# Redes Neurais\n",
    "from tensorflow import keras\n",
    "from tensorflow.keras.datasets import mnist\n",
    "from tensorflow.keras.models import Sequential\n",
    "from tensorflow.keras.layers import Dense, Dropout\n",
    "from tensorflow.keras.optimizers import RMSprop\n",
    "# Plot\n",
    "import matplotlib.pyplot as plt\n",
    "%matplotlib inline\n",
    "# Avaliação\n",
    "from sklearn.metrics import classification_report, confusion_matrix"
   ]
  },
  {
   "cell_type": "code",
   "execution_count": 2,
   "metadata": {
    "execution": {
     "iopub.execute_input": "2023-07-13T20:55:08.797415Z",
     "iopub.status.busy": "2023-07-13T20:55:08.796614Z",
     "iopub.status.idle": "2023-07-13T20:55:13.175882Z",
     "shell.execute_reply": "2023-07-13T20:55:13.176585Z",
     "shell.execute_reply.started": "2023-07-13T19:46:52.137959Z"
    },
    "papermill": {
     "duration": 4.410916,
     "end_time": "2023-07-13T20:55:13.176762",
     "exception": false,
     "start_time": "2023-07-13T20:55:08.765846",
     "status": "completed"
    },
    "tags": []
   },
   "outputs": [],
   "source": [
    "# Lendo o dataset Kaggle\n",
    "train = pd.read_csv(\"../input/digit-recognizer/train.csv\")\n",
    "\n",
    "#Alternativa ler do próprio keras\n",
    "#(x_train, y_train), (x_test, y_test) = mnist.load_data()\n"
   ]
  },
  {
   "cell_type": "code",
   "execution_count": 3,
   "metadata": {
    "execution": {
     "iopub.execute_input": "2023-07-13T20:55:13.243305Z",
     "iopub.status.busy": "2023-07-13T20:55:13.242514Z",
     "iopub.status.idle": "2023-07-13T20:55:13.248850Z",
     "shell.execute_reply": "2023-07-13T20:55:13.249595Z",
     "shell.execute_reply.started": "2023-07-13T19:46:55.606221Z"
    },
    "papermill": {
     "duration": 0.047124,
     "end_time": "2023-07-13T20:55:13.249766",
     "exception": false,
     "start_time": "2023-07-13T20:55:13.202642",
     "status": "completed"
    },
    "tags": []
   },
   "outputs": [
    {
     "name": "stdout",
     "output_type": "stream",
     "text": [
      "Quantidade de elementos de treino: 42000\n",
      "   label  pixel0  pixel1  pixel2  pixel3  pixel4  pixel5  pixel6  pixel7  \\\n",
      "0      1       0       0       0       0       0       0       0       0   \n",
      "1      0       0       0       0       0       0       0       0       0   \n",
      "2      1       0       0       0       0       0       0       0       0   \n",
      "3      4       0       0       0       0       0       0       0       0   \n",
      "4      0       0       0       0       0       0       0       0       0   \n",
      "\n",
      "   pixel8  ...  pixel774  pixel775  pixel776  pixel777  pixel778  pixel779  \\\n",
      "0       0  ...         0         0         0         0         0         0   \n",
      "1       0  ...         0         0         0         0         0         0   \n",
      "2       0  ...         0         0         0         0         0         0   \n",
      "3       0  ...         0         0         0         0         0         0   \n",
      "4       0  ...         0         0         0         0         0         0   \n",
      "\n",
      "   pixel780  pixel781  pixel782  pixel783  \n",
      "0         0         0         0         0  \n",
      "1         0         0         0         0  \n",
      "2         0         0         0         0  \n",
      "3         0         0         0         0  \n",
      "4         0         0         0         0  \n",
      "\n",
      "[5 rows x 785 columns]\n"
     ]
    }
   ],
   "source": [
    "# Analisando o dataset\n",
    "print(\"Quantidade de elementos de treino: {}\". format(len(train)))\n",
    "print(train.head())"
   ]
  },
  {
   "cell_type": "code",
   "execution_count": 4,
   "metadata": {
    "execution": {
     "iopub.execute_input": "2023-07-13T20:55:13.307925Z",
     "iopub.status.busy": "2023-07-13T20:55:13.307088Z",
     "iopub.status.idle": "2023-07-13T20:55:13.449064Z",
     "shell.execute_reply": "2023-07-13T20:55:13.448187Z",
     "shell.execute_reply.started": "2023-07-13T19:46:55.626644Z"
    },
    "papermill": {
     "duration": 0.172804,
     "end_time": "2023-07-13T20:55:13.449207",
     "exception": false,
     "start_time": "2023-07-13T20:55:13.276403",
     "status": "completed"
    },
    "tags": []
   },
   "outputs": [
    {
     "name": "stdout",
     "output_type": "stream",
     "text": [
      "   pixel0  pixel1  pixel2  pixel3  pixel4  pixel5  pixel6  pixel7  pixel8  \\\n",
      "0       0       0       0       0       0       0       0       0       0   \n",
      "1       0       0       0       0       0       0       0       0       0   \n",
      "2       0       0       0       0       0       0       0       0       0   \n",
      "3       0       0       0       0       0       0       0       0       0   \n",
      "4       0       0       0       0       0       0       0       0       0   \n",
      "\n",
      "   pixel9  ...  pixel774  pixel775  pixel776  pixel777  pixel778  pixel779  \\\n",
      "0       0  ...         0         0         0         0         0         0   \n",
      "1       0  ...         0         0         0         0         0         0   \n",
      "2       0  ...         0         0         0         0         0         0   \n",
      "3       0  ...         0         0         0         0         0         0   \n",
      "4       0  ...         0         0         0         0         0         0   \n",
      "\n",
      "   pixel780  pixel781  pixel782  pixel783  \n",
      "0         0         0         0         0  \n",
      "1         0         0         0         0  \n",
      "2         0         0         0         0  \n",
      "3         0         0         0         0  \n",
      "4         0         0         0         0  \n",
      "\n",
      "[5 rows x 784 columns]\n"
     ]
    }
   ],
   "source": [
    "# Separando x_train e y_train\n",
    "Y = train[\"label\"]\n",
    "X = train.drop(labels = [\"label\"],axis = 1)\n",
    "print(X.head())\n",
    "# Em formato numpy array de imagens 28 x 28\n",
    "#x = X.values.reshape(-1,28,28,1)\n",
    "#print(x[0])"
   ]
  },
  {
   "cell_type": "code",
   "execution_count": 5,
   "metadata": {
    "execution": {
     "iopub.execute_input": "2023-07-13T20:55:13.510710Z",
     "iopub.status.busy": "2023-07-13T20:55:13.509694Z",
     "iopub.status.idle": "2023-07-13T20:55:13.513263Z",
     "shell.execute_reply": "2023-07-13T20:55:13.513889Z",
     "shell.execute_reply.started": "2023-07-13T19:46:55.828604Z"
    },
    "papermill": {
     "duration": 0.037991,
     "end_time": "2023-07-13T20:55:13.514068",
     "exception": false,
     "start_time": "2023-07-13T20:55:13.476077",
     "status": "completed"
    },
    "tags": []
   },
   "outputs": [
    {
     "name": "stdout",
     "output_type": "stream",
     "text": [
      "0        1\n",
      "1        0\n",
      "2        1\n",
      "3        4\n",
      "4        0\n",
      "        ..\n",
      "41995    0\n",
      "41996    1\n",
      "41997    7\n",
      "41998    6\n",
      "41999    9\n",
      "Name: label, Length: 42000, dtype: int64\n"
     ]
    }
   ],
   "source": [
    "print(Y)"
   ]
  },
  {
   "cell_type": "code",
   "execution_count": 6,
   "metadata": {
    "ExecuteTime": {
     "end_time": "2019-01-08T20:49:47.144492Z",
     "start_time": "2019-01-08T20:49:47.016025Z"
    },
    "execution": {
     "iopub.execute_input": "2023-07-13T20:55:13.576072Z",
     "iopub.status.busy": "2023-07-13T20:55:13.575255Z",
     "iopub.status.idle": "2023-07-13T20:55:13.787394Z",
     "shell.execute_reply": "2023-07-13T20:55:13.788025Z",
     "shell.execute_reply.started": "2023-07-13T19:46:55.842262Z"
    },
    "papermill": {
     "duration": 0.246939,
     "end_time": "2023-07-13T20:55:13.788204",
     "exception": false,
     "start_time": "2023-07-13T20:55:13.541265",
     "status": "completed"
    },
    "tags": []
   },
   "outputs": [
    {
     "data": {
      "image/png": "[encoded data removed]",
      "text/plain": [
       "<Figure size 432x288 with 1 Axes>"
      ]
     },
     "metadata": {
      "needs_background": "light"
     },
     "output_type": "display_data"
    },
    {
     "name": "stdout",
     "output_type": "stream",
     "text": [
      "Label: 9\n"
     ]
    }
   ],
   "source": [
    "# Numtendi nada!\n",
    "# Bora ver com matplotlib\n",
    "plt.imshow(X.values[100].reshape(28,28), cmap=plt.cm.binary)\n",
    "plt.show()\n",
    "print('Label: {}'.format(Y[100]))"
   ]
  },
  {
   "cell_type": "code",
   "execution_count": 7,
   "metadata": {
    "ExecuteTime": {
     "end_time": "2019-01-08T20:49:57.425537Z",
     "start_time": "2019-01-08T20:49:57.272377Z"
    },
    "execution": {
     "iopub.execute_input": "2023-07-13T20:55:13.851913Z",
     "iopub.status.busy": "2023-07-13T20:55:13.851107Z",
     "iopub.status.idle": "2023-07-13T20:55:13.963770Z",
     "shell.execute_reply": "2023-07-13T20:55:13.962843Z",
     "shell.execute_reply.started": "2023-07-13T19:46:56.022706Z"
    },
    "papermill": {
     "duration": 0.147179,
     "end_time": "2023-07-13T20:55:13.963924",
     "exception": false,
     "start_time": "2023-07-13T20:55:13.816745",
     "status": "completed"
    },
    "tags": []
   },
   "outputs": [
    {
     "name": "stdout",
     "output_type": "stream",
     "text": [
      "[0.         0.         0.         0.         0.         0.\n",
      " 0.         0.         0.         0.         0.         0.\n",
      " 0.         0.         0.         0.         0.         0.\n",
      " 0.         0.         0.         0.         0.         0.\n",
      " 0.         0.         0.         0.         0.         0.\n",
      " 0.         0.         0.         0.         0.         0.\n",
      " 0.         0.         0.         0.         0.         0.\n",
      " 0.         0.         0.         0.         0.         0.\n",
      " 0.         0.         0.         0.         0.         0.\n",
      " 0.         0.         0.         0.         0.         0.\n",
      " 0.         0.         0.         0.         0.         0.\n",
      " 0.         0.         0.         0.         0.         0.\n",
      " 0.         0.         0.         0.         0.         0.\n",
      " 0.         0.         0.         0.         0.         0.\n",
      " 0.         0.         0.         0.         0.         0.\n",
      " 0.         0.         0.         0.         0.         0.\n",
      " 0.         0.         0.         0.         0.         0.\n",
      " 0.         0.         0.         0.         0.         0.\n",
      " 0.         0.         0.         0.         0.         0.\n",
      " 0.         0.         0.         0.         0.         0.\n",
      " 0.         0.         0.         0.         0.         0.\n",
      " 0.         0.         0.         0.         0.         0.\n",
      " 0.7372549  1.         0.36862746 0.         0.         0.\n",
      " 0.         0.         0.         0.         0.         0.\n",
      " 0.         0.         0.         0.         0.         0.\n",
      " 0.         0.         0.         0.         0.         0.\n",
      " 0.         0.         0.         0.7490196  0.98039216 0.99215686\n",
      " 0.3647059  0.         0.         0.         0.         0.\n",
      " 0.         0.         0.         0.         0.         0.\n",
      " 0.         0.         0.         0.         0.         0.\n",
      " 0.         0.         0.         0.         0.         0.\n",
      " 0.48235294 0.972549   0.99215686 0.654902   0.03921569 0.\n",
      " 0.         0.         0.         0.         0.         0.\n",
      " 0.         0.         0.         0.         0.         0.\n",
      " 0.         0.         0.         0.         0.         0.\n",
      " 0.         0.         0.         0.3137255  0.96862745 0.99215686\n",
      " 0.8156863  0.05098039 0.         0.         0.         0.\n",
      " 0.         0.         0.         0.         0.         0.\n",
      " 0.         0.         0.         0.         0.         0.\n",
      " 0.         0.         0.         0.         0.         0.\n",
      " 0.11372549 0.8117647  0.99215686 0.92156863 0.3019608  0.\n",
      " 0.         0.         0.         0.         0.         0.\n",
      " 0.         0.         0.         0.         0.         0.\n",
      " 0.         0.         0.         0.         0.         0.\n",
      " 0.         0.         0.         0.21176471 0.81960785 0.99215686\n",
      " 0.99215686 0.34509805 0.         0.         0.         0.\n",
      " 0.         0.         0.         0.         0.         0.\n",
      " 0.         0.         0.         0.         0.         0.\n",
      " 0.         0.         0.         0.         0.         0.\n",
      " 0.3647059  0.99607843 0.99215686 0.93333334 0.6666667  0.06666667\n",
      " 0.         0.         0.         0.         0.         0.\n",
      " 0.         0.         0.         0.         0.         0.\n",
      " 0.         0.         0.         0.         0.         0.\n",
      " 0.         0.         0.         0.09019608 0.8235294  0.99607843\n",
      " 0.99215686 0.62352943 0.         0.         0.         0.\n",
      " 0.         0.         0.         0.         0.         0.\n",
      " 0.         0.         0.         0.         0.         0.\n",
      " 0.         0.         0.         0.         0.         0.\n",
      " 0.0627451  0.81960785 0.99215686 0.99607843 0.9411765  0.31764707\n",
      " 0.         0.         0.         0.         0.         0.\n",
      " 0.         0.         0.         0.         0.         0.\n",
      " 0.         0.         0.         0.         0.         0.\n",
      " 0.         0.         0.         0.         0.10588235 0.99215686\n",
      " 0.99215686 0.99607843 0.05098039 0.         0.         0.\n",
      " 0.         0.         0.         0.         0.         0.\n",
      " 0.         0.         0.         0.         0.         0.\n",
      " 0.         0.         0.         0.         0.         0.\n",
      " 0.         0.07843138 0.80784315 0.99607843 0.99607843 0.7764706\n",
      " 0.02745098 0.         0.         0.         0.         0.\n",
      " 0.         0.         0.         0.         0.         0.\n",
      " 0.         0.         0.         0.         0.         0.\n",
      " 0.         0.         0.         0.         0.         0.65882355\n",
      " 0.99215686 0.99215686 0.76862746 0.02745098 0.         0.\n",
      " 0.         0.         0.         0.         0.         0.\n",
      " 0.         0.         0.         0.         0.         0.\n",
      " 0.         0.         0.         0.         0.         0.\n",
      " 0.         0.         0.07843138 0.79607844 0.99215686 0.972549\n",
      " 0.29803923 0.         0.         0.         0.         0.\n",
      " 0.         0.         0.         0.         0.         0.\n",
      " 0.         0.         0.         0.         0.         0.\n",
      " 0.         0.         0.         0.         0.         0.08627451\n",
      " 0.7372549  0.99215686 0.9607843  0.3647059  0.         0.\n",
      " 0.         0.         0.         0.         0.         0.\n",
      " 0.         0.         0.         0.         0.         0.\n",
      " 0.         0.         0.         0.         0.         0.\n",
      " 0.         0.         0.         0.40392157 0.99215686 0.99215686\n",
      " 0.7490196  0.         0.         0.         0.         0.\n",
      " 0.         0.         0.         0.         0.         0.\n",
      " 0.         0.         0.         0.         0.         0.\n",
      " 0.         0.         0.         0.         0.         0.\n",
      " 0.34901962 0.9411765  0.99215686 0.7647059  0.09803922 0.\n",
      " 0.         0.         0.         0.         0.         0.\n",
      " 0.         0.         0.         0.         0.         0.\n",
      " 0.         0.         0.         0.         0.         0.\n",
      " 0.         0.         0.         0.05882353 0.8627451  0.99215686\n",
      " 0.99215686 0.3137255  0.         0.         0.         0.\n",
      " 0.         0.         0.         0.         0.         0.\n",
      " 0.         0.         0.         0.         0.         0.\n",
      " 0.         0.         0.         0.         0.         0.\n",
      " 0.         0.36862746 0.99215686 0.99215686 0.99215686 0.36862746\n",
      " 0.         0.         0.         0.         0.         0.\n",
      " 0.         0.         0.         0.         0.         0.\n",
      " 0.         0.         0.         0.         0.         0.\n",
      " 0.         0.         0.         0.         0.         0.34901962\n",
      " 0.9843137  0.99215686 0.98039216 0.5137255  0.         0.\n",
      " 0.         0.         0.         0.         0.         0.\n",
      " 0.         0.         0.         0.         0.         0.\n",
      " 0.         0.         0.         0.         0.         0.\n",
      " 0.         0.         0.         0.         0.8392157  0.85490197\n",
      " 0.37254903 0.         0.         0.         0.         0.\n",
      " 0.         0.         0.         0.         0.         0.\n",
      " 0.         0.         0.         0.         0.         0.\n",
      " 0.         0.         0.         0.         0.         0.\n",
      " 0.         0.         0.         0.         0.         0.\n",
      " 0.         0.         0.         0.         0.         0.\n",
      " 0.         0.         0.         0.         0.         0.\n",
      " 0.         0.         0.         0.         0.         0.\n",
      " 0.         0.         0.         0.         0.         0.\n",
      " 0.         0.         0.         0.         0.         0.\n",
      " 0.         0.         0.         0.         0.         0.\n",
      " 0.         0.         0.         0.         0.         0.\n",
      " 0.         0.         0.         0.         0.         0.\n",
      " 0.         0.         0.         0.         0.         0.\n",
      " 0.         0.         0.         0.         0.         0.\n",
      " 0.         0.         0.         0.         0.         0.\n",
      " 0.         0.         0.         0.         0.         0.\n",
      " 0.         0.         0.         0.         0.         0.\n",
      " 0.         0.         0.         0.         0.         0.\n",
      " 0.         0.         0.         0.         0.         0.\n",
      " 0.         0.         0.         0.         0.         0.\n",
      " 0.         0.         0.         0.        ]\n"
     ]
    }
   ],
   "source": [
    "# Transformando a imagem 2d em um numpy array (imagem 28*28 = 784 pixels)\n",
    "x = X.values.reshape(42000, 784)\n",
    "\n",
    "#Normalizando para valores entre 0 e 1\n",
    "x = x.astype('float32')\n",
    "x /= 255\n",
    "\n",
    "print(x[0])"
   ]
  },
  {
   "cell_type": "code",
   "execution_count": 8,
   "metadata": {
    "ExecuteTime": {
     "end_time": "2019-01-08T20:50:48.007428Z",
     "start_time": "2019-01-08T20:50:47.986527Z"
    },
    "execution": {
     "iopub.execute_input": "2023-07-13T20:55:14.029055Z",
     "iopub.status.busy": "2023-07-13T20:55:14.028015Z",
     "iopub.status.idle": "2023-07-13T20:55:14.033839Z",
     "shell.execute_reply": "2023-07-13T20:55:14.033102Z",
     "shell.execute_reply.started": "2023-07-13T19:46:56.162721Z"
    },
    "papermill": {
     "duration": 0.040523,
     "end_time": "2023-07-13T20:55:14.033974",
     "exception": false,
     "start_time": "2023-07-13T20:55:13.993451",
     "status": "completed"
    },
    "tags": []
   },
   "outputs": [
    {
     "name": "stdout",
     "output_type": "stream",
     "text": [
      "[0. 1. 0. 0. 0. 0. 0. 0. 0. 0.]\n"
     ]
    }
   ],
   "source": [
    "# Vamos ajustar o formato da saida\n",
    "num_classes = 10\n",
    "\n",
    "# Convertendo para um vetor de saida com 10 dimensoes\n",
    "# ex. 8 => [0,0,0,0,0,0,0,0,1,0]\n",
    "y = keras.utils.to_categorical(Y, num_classes)\n",
    "print(y[0])"
   ]
  },
  {
   "cell_type": "code",
   "execution_count": 9,
   "metadata": {
    "execution": {
     "iopub.execute_input": "2023-07-13T20:55:14.100694Z",
     "iopub.status.busy": "2023-07-13T20:55:14.099886Z",
     "iopub.status.idle": "2023-07-13T20:55:14.517848Z",
     "shell.execute_reply": "2023-07-13T20:55:14.517146Z",
     "shell.execute_reply.started": "2023-07-13T20:44:14.574119Z"
    },
    "papermill": {
     "duration": 0.454222,
     "end_time": "2023-07-13T20:55:14.518000",
     "exception": false,
     "start_time": "2023-07-13T20:55:14.063778",
     "status": "completed"
    },
    "tags": []
   },
   "outputs": [
    {
     "name": "stdout",
     "output_type": "stream",
     "text": [
      "Qtde de treino: 37800\n",
      "Qtde de validação: 4200\n"
     ]
    }
   ],
   "source": [
    "# Separando uma parte para treino (90%) e outra para validação (10%)\n",
    "from sklearn.model_selection import train_test_split\n",
    "x_train, x_val, y_train, y_val = train_test_split(x, y, test_size = 0.1, random_state=9)\n",
    "print('Qtde de treino: {}'.format(len(x_train)))\n",
    "print('Qtde de validação: {}'.format(len(x_val)))"
   ]
  },
  {
   "cell_type": "markdown",
   "metadata": {
    "papermill": {
     "duration": 0.029592,
     "end_time": "2023-07-13T20:55:14.578244",
     "exception": false,
     "start_time": "2023-07-13T20:55:14.548652",
     "status": "completed"
    },
    "tags": []
   },
   "source": [
    "# Criando e treinando o Modelo"
   ]
  },
  {
   "cell_type": "code",
   "execution_count": 10,
   "metadata": {
    "ExecuteTime": {
     "end_time": "2019-01-08T21:38:00.233865Z",
     "start_time": "2019-01-08T21:38:00.15079Z"
    },
    "execution": {
     "iopub.execute_input": "2023-07-13T20:55:14.650076Z",
     "iopub.status.busy": "2023-07-13T20:55:14.649166Z",
     "iopub.status.idle": "2023-07-13T20:55:14.830461Z",
     "shell.execute_reply": "2023-07-13T20:55:14.829767Z",
     "shell.execute_reply.started": "2023-07-13T20:44:20.424720Z"
    },
    "papermill": {
     "duration": 0.222513,
     "end_time": "2023-07-13T20:55:14.830613",
     "exception": false,
     "start_time": "2023-07-13T20:55:14.608100",
     "status": "completed"
    },
    "scrolled": true,
    "tags": []
   },
   "outputs": [
    {
     "name": "stdout",
     "output_type": "stream",
     "text": [
      "Model: \"sequential\"\n",
      "_________________________________________________________________\n",
      "Layer (type)                 Output Shape              Param #   \n",
      "=================================================================\n",
      "dense (Dense)                (None, 40)                31400     \n",
      "_________________________________________________________________\n",
      "dropout (Dropout)            (None, 40)                0         \n",
      "_________________________________________________________________\n",
      "dense_1 (Dense)              (None, 30)                1230      \n",
      "_________________________________________________________________\n",
      "dropout_1 (Dropout)          (None, 30)                0         \n",
      "_________________________________________________________________\n",
      "dense_2 (Dense)              (None, 30)                930       \n",
      "_________________________________________________________________\n",
      "dense_3 (Dense)              (None, 10)                310       \n",
      "=================================================================\n",
      "Total params: 33,870\n",
      "Trainable params: 33,870\n",
      "Non-trainable params: 0\n",
      "_________________________________________________________________\n"
     ]
    }
   ],
   "source": [
    "# Criando o modelo Sequential\n",
    "# Sequential: Modelo Keras de ir adicionando camadas (como um lego)\n",
    "# Dense: Camada onde todas as entradas estão conectadas em cada neurônio (totalmente conectada)\n",
    "# Dropout: Camada usa durante treino que descarta aleatoriamente um percentual de conexões (reduz overfitting)\n",
    "\n",
    "model = Sequential()\n",
    "# Camada com 30 neurônios\n",
    "# o input_shape eh o numero de caracteristicas(features)\n",
    "# activation \"relu\" dropa os numeros negativos\n",
    "model.add(Dense(40, activation='relu', input_shape=(784,)))\n",
    "# Dropout de 20%\n",
    "model.add(Dropout(0.2))\n",
    "# Camada de 20 neurônios\n",
    "model.add(Dense(30, activation='relu'))\n",
    "# Dropout de 20%\n",
    "model.add(Dropout(0.2))\n",
    "model.add(Dense(30, activation='relu'))\n",
    "# Camda de classificação final, com 1 neurônio para cada classe de saída. Softmax divide a probabilidade de cada classe.\n",
    "model.add(Dense(num_classes, activation='softmax'))\n",
    "\n",
    "model.summary()"
   ]
  },
  {
   "cell_type": "code",
   "execution_count": 11,
   "metadata": {
    "ExecuteTime": {
     "end_time": "2019-01-08T21:33:17.184644Z",
     "start_time": "2019-01-08T21:33:17.129141Z"
    },
    "execution": {
     "iopub.execute_input": "2023-07-13T20:55:14.902248Z",
     "iopub.status.busy": "2023-07-13T20:55:14.901373Z",
     "iopub.status.idle": "2023-07-13T20:55:15.067907Z",
     "shell.execute_reply": "2023-07-13T20:55:15.067155Z",
     "shell.execute_reply.started": "2023-07-13T20:44:24.095698Z"
    },
    "papermill": {
     "duration": 0.207106,
     "end_time": "2023-07-13T20:55:15.068056",
     "exception": false,
     "start_time": "2023-07-13T20:55:14.860950",
     "status": "completed"
    },
    "tags": []
   },
   "outputs": [],
   "source": [
    "# Compila o modelo\n",
    "model.compile(loss='categorical_crossentropy',\n",
    "              optimizer=RMSprop(),\n",
    "              metrics=['accuracy'])"
   ]
  },
  {
   "cell_type": "code",
   "execution_count": 12,
   "metadata": {
    "ExecuteTime": {
     "end_time": "2019-01-08T21:36:15.501168Z",
     "start_time": "2019-01-08T21:33:19.322895Z"
    },
    "execution": {
     "iopub.execute_input": "2023-07-13T20:55:15.137714Z",
     "iopub.status.busy": "2023-07-13T20:55:15.136894Z",
     "iopub.status.idle": "2023-07-13T20:56:08.880294Z",
     "shell.execute_reply": "2023-07-13T20:56:08.879648Z",
     "shell.execute_reply.started": "2023-07-13T20:44:36.559112Z"
    },
    "papermill": {
     "duration": 53.782084,
     "end_time": "2023-07-13T20:56:08.880501",
     "exception": false,
     "start_time": "2023-07-13T20:55:15.098417",
     "status": "completed"
    },
    "tags": []
   },
   "outputs": [
    {
     "name": "stdout",
     "output_type": "stream",
     "text": [
      "Train on 37800 samples, validate on 4200 samples\n",
      "Epoch 1/20\n",
      "37800/37800 [==============================] - 3s 91us/sample - loss: 0.6708 - accuracy: 0.7883 - val_loss: 0.2504 - val_accuracy: 0.9248\n",
      "Epoch 2/20\n",
      "37800/37800 [==============================] - 3s 69us/sample - loss: 0.3477 - accuracy: 0.9005 - val_loss: 0.2073 - val_accuracy: 0.9419\n",
      "Epoch 3/20\n",
      "37800/37800 [==============================] - 3s 73us/sample - loss: 0.2977 - accuracy: 0.9155 - val_loss: 0.1933 - val_accuracy: 0.9438\n",
      "Epoch 4/20\n",
      "37800/37800 [==============================] - 3s 68us/sample - loss: 0.2714 - accuracy: 0.9252 - val_loss: 0.1763 - val_accuracy: 0.9510\n",
      "Epoch 5/20\n",
      "37800/37800 [==============================] - 3s 70us/sample - loss: 0.2515 - accuracy: 0.9300 - val_loss: 0.1784 - val_accuracy: 0.9510\n",
      "Epoch 6/20\n",
      "37800/37800 [==============================] - 3s 70us/sample - loss: 0.2458 - accuracy: 0.9313 - val_loss: 0.1660 - val_accuracy: 0.9560\n",
      "Epoch 7/20\n",
      "37800/37800 [==============================] - 3s 70us/sample - loss: 0.2305 - accuracy: 0.9365 - val_loss: 0.1656 - val_accuracy: 0.9586\n",
      "Epoch 8/20\n",
      "37800/37800 [==============================] - 3s 69us/sample - loss: 0.2311 - accuracy: 0.9377 - val_loss: 0.1705 - val_accuracy: 0.9548\n",
      "Epoch 9/20\n",
      "37800/37800 [==============================] - 3s 67us/sample - loss: 0.2214 - accuracy: 0.9399 - val_loss: 0.1760 - val_accuracy: 0.9574\n",
      "Epoch 10/20\n",
      "37800/37800 [==============================] - 3s 70us/sample - loss: 0.2157 - accuracy: 0.9413 - val_loss: 0.1629 - val_accuracy: 0.9571\n",
      "Epoch 11/20\n",
      "37800/37800 [==============================] - 3s 71us/sample - loss: 0.2098 - accuracy: 0.9432 - val_loss: 0.1773 - val_accuracy: 0.9569\n",
      "Epoch 12/20\n",
      "37800/37800 [==============================] - 3s 69us/sample - loss: 0.2127 - accuracy: 0.9438 - val_loss: 0.1531 - val_accuracy: 0.9610\n",
      "Epoch 13/20\n",
      "37800/37800 [==============================] - 3s 69us/sample - loss: 0.2074 - accuracy: 0.9452 - val_loss: 0.1616 - val_accuracy: 0.9571\n",
      "Epoch 14/20\n",
      "37800/37800 [==============================] - 3s 69us/sample - loss: 0.1988 - accuracy: 0.9466 - val_loss: 0.1718 - val_accuracy: 0.9583\n",
      "Epoch 15/20\n",
      "37800/37800 [==============================] - 3s 73us/sample - loss: 0.2030 - accuracy: 0.9458 - val_loss: 0.1620 - val_accuracy: 0.9595\n",
      "Epoch 16/20\n",
      "37800/37800 [==============================] - 3s 69us/sample - loss: 0.2000 - accuracy: 0.9464 - val_loss: 0.1632 - val_accuracy: 0.9574\n",
      "Epoch 17/20\n",
      "37800/37800 [==============================] - 3s 68us/sample - loss: 0.1967 - accuracy: 0.9475 - val_loss: 0.1652 - val_accuracy: 0.9583\n",
      "Epoch 18/20\n",
      "37800/37800 [==============================] - 3s 70us/sample - loss: 0.1971 - accuracy: 0.9478 - val_loss: 0.1662 - val_accuracy: 0.9564\n",
      "Epoch 19/20\n",
      "37800/37800 [==============================] - 3s 71us/sample - loss: 0.1908 - accuracy: 0.9498 - val_loss: 0.1555 - val_accuracy: 0.9602\n",
      "Epoch 20/20\n",
      "37800/37800 [==============================] - 3s 70us/sample - loss: 0.1900 - accuracy: 0.9497 - val_loss: 0.1736 - val_accuracy: 0.9560\n"
     ]
    }
   ],
   "source": [
    "# Treina com os parte dos dados\n",
    "batch_size = 32\n",
    "epochs = 20\n",
    "history = model.fit(x_train, y_train,\n",
    "                    batch_size=batch_size,\n",
    "                    epochs=epochs,\n",
    "                    verbose=1,\n",
    "                    validation_data=(x_val, y_val))"
   ]
  },
  {
   "cell_type": "code",
   "execution_count": 13,
   "metadata": {
    "ExecuteTime": {
     "end_time": "2019-01-08T21:36:20.243921Z",
     "start_time": "2019-01-08T21:36:20.064201Z"
    },
    "execution": {
     "iopub.execute_input": "2023-07-13T20:56:09.764382Z",
     "iopub.status.busy": "2023-07-13T20:56:09.759000Z",
     "iopub.status.idle": "2023-07-13T20:56:10.152546Z",
     "shell.execute_reply": "2023-07-13T20:56:10.151825Z",
     "shell.execute_reply.started": "2023-07-13T20:45:54.075724Z"
    },
    "papermill": {
     "duration": 0.838601,
     "end_time": "2023-07-13T20:56:10.152684",
     "exception": false,
     "start_time": "2023-07-13T20:56:09.314083",
     "status": "completed"
    },
    "tags": []
   },
   "outputs": [
    {
     "data": {
      "image/png": "[encoded data removed]",
      "text/plain": [
       "<Figure size 1152x576 with 2 Axes>"
      ]
     },
     "metadata": {
      "needs_background": "light"
     },
     "output_type": "display_data"
    }
   ],
   "source": [
    "#Vamos ver como foi o treino?\n",
    "\n",
    "fig, ax = plt.subplots(1,2, figsize=(16,8))\n",
    "ax[0].plot(history.history['loss'], color='b', label=\"Training loss\")\n",
    "ax[0].plot(history.history['val_loss'], color='r', label=\"validation loss\",axes =ax[0])\n",
    "legend = ax[0].legend(loc='best', shadow=True)\n",
    "\n",
    "ax[1].plot(history.history['accuracy'], color='b', label=\"Training accuracy\")\n",
    "ax[1].plot(history.history['val_accuracy'], color='r',label=\"Validation accuracy\")\n",
    "legend = ax[1].legend(loc='best', shadow=True)"
   ]
  },
  {
   "cell_type": "code",
   "execution_count": 14,
   "metadata": {
    "ExecuteTime": {
     "end_time": "2019-01-08T21:36:39.779842Z",
     "start_time": "2019-01-08T21:36:38.946173Z"
    },
    "execution": {
     "iopub.execute_input": "2023-07-13T20:56:11.036247Z",
     "iopub.status.busy": "2023-07-13T20:56:11.035405Z",
     "iopub.status.idle": "2023-07-13T20:56:11.216134Z",
     "shell.execute_reply": "2023-07-13T20:56:11.215503Z",
     "shell.execute_reply.started": "2023-07-13T20:45:58.720318Z"
    },
    "papermill": {
     "duration": 0.627868,
     "end_time": "2023-07-13T20:56:11.216279",
     "exception": false,
     "start_time": "2023-07-13T20:56:10.588411",
     "status": "completed"
    },
    "tags": []
   },
   "outputs": [
    {
     "name": "stdout",
     "output_type": "stream",
     "text": [
      "Test loss: 0.1736419312208004\n",
      "Test accuracy: 0.9559524\n"
     ]
    }
   ],
   "source": [
    "# Testa\n",
    "score = model.evaluate(x_val, y_val, verbose=0)\n",
    "print('Test loss:', score[0])\n",
    "print('Test accuracy:', score[1])"
   ]
  },
  {
   "cell_type": "code",
   "execution_count": 15,
   "metadata": {
    "execution": {
     "iopub.execute_input": "2023-07-13T20:56:12.099652Z",
     "iopub.status.busy": "2023-07-13T20:56:12.098374Z",
     "iopub.status.idle": "2023-07-13T20:56:12.102619Z",
     "shell.execute_reply": "2023-07-13T20:56:12.103365Z",
     "shell.execute_reply.started": "2023-07-13T20:49:59.955570Z"
    },
    "papermill": {
     "duration": 0.449997,
     "end_time": "2023-07-13T20:56:12.103544",
     "exception": false,
     "start_time": "2023-07-13T20:56:11.653547",
     "status": "completed"
    },
    "tags": []
   },
   "outputs": [
    {
     "data": {
      "text/plain": [
       "8"
      ]
     },
     "execution_count": 15,
     "metadata": {},
     "output_type": "execute_result"
    }
   ],
   "source": [
    "Y[10]"
   ]
  },
  {
   "cell_type": "code",
   "execution_count": 16,
   "metadata": {
    "ExecuteTime": {
     "end_time": "2019-01-08T21:06:04.363715Z",
     "start_time": "2019-01-08T21:06:04.27849Z"
    },
    "execution": {
     "iopub.execute_input": "2023-07-13T20:56:12.997029Z",
     "iopub.status.busy": "2023-07-13T20:56:12.995877Z",
     "iopub.status.idle": "2023-07-13T20:56:13.093525Z",
     "shell.execute_reply": "2023-07-13T20:56:13.092845Z",
     "shell.execute_reply.started": "2023-07-13T20:15:45.278547Z"
    },
    "papermill": {
     "duration": 0.549993,
     "end_time": "2023-07-13T20:56:13.093683",
     "exception": false,
     "start_time": "2023-07-13T20:56:12.543690",
     "status": "completed"
    },
    "tags": []
   },
   "outputs": [
    {
     "name": "stdout",
     "output_type": "stream",
     "text": [
      "[0. 0. 0. 1. 0. 0. 0. 0. 0. 0.]\n",
      "[[1.0534342e-30 7.9720491e-18 2.5939301e-16 1.0000000e+00 6.3361571e-36\n",
      "  5.0602328e-11 7.4254590e-28 3.3028338e-18 1.2338046e-14 8.9629850e-16]]\n",
      "[3]\n"
     ]
    }
   ],
   "source": [
    "# Testando uma entrada qualquer\n",
    "print(y_train[10])\n",
    "print(model.predict(x_train[10].reshape((1,784))))\n",
    "print(model.predict_classes(x_train[10].reshape((1,784))))"
   ]
  },
  {
   "cell_type": "markdown",
   "metadata": {
    "papermill": {
     "duration": 0.443088,
     "end_time": "2023-07-13T20:56:13.968957",
     "exception": false,
     "start_time": "2023-07-13T20:56:13.525869",
     "status": "completed"
    },
    "tags": []
   },
   "source": [
    "# Avaliando o Modelo"
   ]
  },
  {
   "cell_type": "code",
   "execution_count": 17,
   "metadata": {
    "execution": {
     "iopub.execute_input": "2023-07-13T20:56:14.871958Z",
     "iopub.status.busy": "2023-07-13T20:56:14.870929Z",
     "iopub.status.idle": "2023-07-13T20:56:14.887208Z",
     "shell.execute_reply": "2023-07-13T20:56:14.887826Z",
     "shell.execute_reply.started": "2023-07-13T20:15:52.646564Z"
    },
    "papermill": {
     "duration": 0.46625,
     "end_time": "2023-07-13T20:56:14.888036",
     "exception": false,
     "start_time": "2023-07-13T20:56:14.421786",
     "status": "completed"
    },
    "tags": []
   },
   "outputs": [],
   "source": [
    "import itertools\n",
    "#Plot the confusion matrix. Set Normalize = True/False\n",
    "def plot_confusion_matrix(cm, classes, normalize=True, title='Confusion matrix', cmap=plt.cm.Blues):\n",
    "    \"\"\"\n",
    "    This function prints and plots the confusion matrix.\n",
    "    Normalization can be applied by setting `normalize=True`.\n",
    "    \"\"\"\n",
    "    plt.figure(figsize=(10,10))\n",
    "    plt.imshow(cm, interpolation='nearest', cmap=cmap)\n",
    "    plt.title(title)\n",
    "    plt.colorbar()\n",
    "    tick_marks = np.arange(len(classes))\n",
    "    plt.xticks(tick_marks, classes, rotation=45)\n",
    "    plt.yticks(tick_marks, classes)\n",
    "    if normalize:\n",
    "        cm = cm.astype('float') / cm.sum(axis=1)[:, np.newaxis]\n",
    "        cm = np.around(cm, decimals=2)\n",
    "        cm[np.isnan(cm)] = 0.0\n",
    "    thresh = cm.max() / 2.\n",
    "    for i, j in itertools.product(range(cm.shape[0]), range(cm.shape[1])):\n",
    "        plt.text(j, i, cm[i, j],\n",
    "                 horizontalalignment=\"center\",\n",
    "                 color=\"white\" if cm[i, j] > thresh else \"black\")\n",
    "    plt.tight_layout()\n",
    "    plt.ylabel('True label')\n",
    "    plt.xlabel('Predicted label')"
   ]
  },
  {
   "cell_type": "code",
   "execution_count": 18,
   "metadata": {
    "ExecuteTime": {
     "end_time": "2019-01-08T21:24:57.7654Z",
     "start_time": "2019-01-08T21:24:57.220867Z"
    },
    "execution": {
     "iopub.execute_input": "2023-07-13T20:56:15.817393Z",
     "iopub.status.busy": "2023-07-13T20:56:15.816586Z",
     "iopub.status.idle": "2023-07-13T20:56:16.654609Z",
     "shell.execute_reply": "2023-07-13T20:56:16.653960Z",
     "shell.execute_reply.started": "2023-07-13T20:15:59.834431Z"
    },
    "papermill": {
     "duration": 1.274387,
     "end_time": "2023-07-13T20:56:16.654756",
     "exception": false,
     "start_time": "2023-07-13T20:56:15.380369",
     "status": "completed"
    },
    "tags": []
   },
   "outputs": [
    {
     "name": "stdout",
     "output_type": "stream",
     "text": [
      "Classification Report\n",
      "              precision    recall  f1-score   support\n",
      "\n",
      "           0       0.94      0.99      0.96       396\n",
      "           1       0.97      0.98      0.97       488\n",
      "           2       0.95      0.97      0.96       395\n",
      "           3       0.97      0.95      0.96       445\n",
      "           4       0.95      0.97      0.96       441\n",
      "           5       0.93      0.93      0.93       384\n",
      "           6       0.98      0.95      0.96       398\n",
      "           7       0.97      0.95      0.96       428\n",
      "           8       0.96      0.93      0.94       416\n",
      "           9       0.95      0.94      0.94       409\n",
      "\n",
      "    accuracy                           0.96      4200\n",
      "   macro avg       0.96      0.96      0.96      4200\n",
      "weighted avg       0.96      0.96      0.96      4200\n",
      "\n"
     ]
    },
    {
     "data": {
      "image/png": "[encoded data removed]",
      "text/plain": [
       "<Figure size 720x720 with 2 Axes>"
      ]
     },
     "metadata": {
      "needs_background": "light"
     },
     "output_type": "display_data"
    }
   ],
   "source": [
    "# Vendo alguns reports\n",
    "# Usando sklearn\n",
    "import numpy as np\n",
    "\n",
    "# Classificando toda base de teste\n",
    "y_pred = model.predict_classes(x_val)\n",
    "# voltando pro formato de classes\n",
    "y_test_c = np.argmax(y_val, axis=1)\n",
    "target_names = ['0', '1', '2', '3', '4', '5', '6', '7', '8', '9']\n",
    "\n",
    "#Confution Matrix\n",
    "cm = confusion_matrix(y_test_c, y_pred)\n",
    "plot_confusion_matrix(cm, target_names, normalize=False, title='Confusion Matrix')\n",
    "\n",
    "print('Classification Report')\n",
    "print(classification_report(y_test_c, y_pred, target_names=target_names))"
   ]
  },
  {
   "cell_type": "markdown",
   "metadata": {
    "papermill": {
     "duration": 0.431557,
     "end_time": "2023-07-13T20:56:17.527400",
     "exception": false,
     "start_time": "2023-07-13T20:56:17.095843",
     "status": "completed"
    },
    "tags": []
   },
   "source": [
    "# Gerando Saída"
   ]
  },
  {
   "cell_type": "code",
   "execution_count": 19,
   "metadata": {
    "execution": {
     "iopub.execute_input": "2023-07-13T20:56:18.418834Z",
     "iopub.status.busy": "2023-07-13T20:56:18.418015Z",
     "iopub.status.idle": "2023-07-13T20:56:22.276083Z",
     "shell.execute_reply": "2023-07-13T20:56:22.276700Z",
     "shell.execute_reply.started": "2023-07-13T20:16:05.670591Z"
    },
    "papermill": {
     "duration": 4.311325,
     "end_time": "2023-07-13T20:56:22.276894",
     "exception": false,
     "start_time": "2023-07-13T20:56:17.965569",
     "status": "completed"
    },
    "tags": []
   },
   "outputs": [
    {
     "name": "stdout",
     "output_type": "stream",
     "text": [
      "Qtde de testes: 28000\n"
     ]
    },
    {
     "data": {
      "image/png": "[encoded data removed]",
      "text/plain": [
       "<Figure size 432x288 with 1 Axes>"
      ]
     },
     "metadata": {
      "needs_background": "light"
     },
     "output_type": "display_data"
    },
    {
     "name": "stdout",
     "output_type": "stream",
     "text": [
      "Previsto: 2\n",
      "   ImageId  Label\n",
      "0        1      2\n",
      "1        2      0\n",
      "2        3      9\n",
      "3        4      4\n",
      "4        5      3\n",
      "5        6      7\n",
      "6        7      0\n",
      "7        8      3\n",
      "8        9      0\n",
      "9       10      3\n"
     ]
    }
   ],
   "source": [
    "# Gerando saída para dataset de teste\n",
    "\n",
    "#Carrega dataset de teste\n",
    "test = pd.read_csv(\"../input/digit-recognizer/test.csv\")\n",
    "print(\"Qtde de testes: {}\".format(len(test)))\n",
    "# Bota no formato numpy e normaliza\n",
    "x_test = test.values.reshape(len(test),784)\n",
    "x_test = x_test.astype('float32')\n",
    "x_test /= 255\n",
    "\n",
    "# Faz classificação para dataset de teste\n",
    "y_pred = model.predict_classes(x_test)\n",
    "\n",
    "# Verficando algum exemplo\n",
    "i = 0\n",
    "plt.imshow(test.values[i].reshape(28,28), cmap=plt.cm.binary)\n",
    "plt.show()\n",
    "print('Previsto: {}'.format(y_pred[i]))\n",
    "\n",
    "# Botando no formato de saída (competição Kaggle)\n",
    "results = pd.Series(y_pred,name=\"Label\")\n",
    "submission = pd.concat([pd.Series(range(1,len(y_pred)+1),name = \"ImageId\"),results],axis = 1)\n",
    "print(submission.head(10))\n",
    "#Salvando Arquivo\n",
    "submission.to_csv(\"mlp_mnist_v1.csv\",index=False)"
   ]
  },
  {
   "cell_type": "markdown",
   "metadata": {
    "papermill": {
     "duration": 0.43929,
     "end_time": "2023-07-13T20:56:23.161485",
     "exception": false,
     "start_time": "2023-07-13T20:56:22.722195",
     "status": "completed"
    },
    "tags": []
   },
   "source": [
    "# Teste Adicional: Com ruído"
   ]
  },
  {
   "cell_type": "code",
   "execution_count": 20,
   "metadata": {
    "execution": {
     "iopub.execute_input": "2023-07-13T20:56:24.048783Z",
     "iopub.status.busy": "2023-07-13T20:56:24.047918Z",
     "iopub.status.idle": "2023-07-13T20:56:24.711709Z",
     "shell.execute_reply": "2023-07-13T20:56:24.712717Z",
     "shell.execute_reply.started": "2023-07-13T20:16:13.998062Z"
    },
    "papermill": {
     "duration": 1.117722,
     "end_time": "2023-07-13T20:56:24.712912",
     "exception": false,
     "start_time": "2023-07-13T20:56:23.595190",
     "status": "completed"
    },
    "tags": []
   },
   "outputs": [
    {
     "data": {
      "image/png": "[encoded data removed]",
      "text/plain": [
       "<Figure size 432x288 with 1 Axes>"
      ]
     },
     "metadata": {
      "needs_background": "light"
     },
     "output_type": "display_data"
    },
    {
     "name": "stdout",
     "output_type": "stream",
     "text": [
      "Test loss: 1.2858845933278402\n",
      "Test accuracy: 0.7709524\n"
     ]
    }
   ],
   "source": [
    "#introduzindo ruido\n",
    "import numpy as np\n",
    "mean = 0.\n",
    "stddev = 0.2\n",
    "noise = np.random.normal(mean, stddev, (4200, 784))\n",
    "x_te = x_val + noise\n",
    "x_te = np.clip(x_te, 0., 1.)\n",
    "\n",
    "plt.imshow(x_te.reshape(4200, 28,28)[0], cmap=plt.cm.binary)\n",
    "plt.show()\n",
    "\n",
    "# Testa\n",
    "score = model.evaluate(x_te, y_val, verbose=0)\n",
    "print('Test loss:', score[0])\n",
    "print('Test accuracy:', score[1])"
   ]
  },
  {
   "cell_type": "markdown",
   "metadata": {
    "papermill": {
     "duration": 0.438672,
     "end_time": "2023-07-13T20:56:25.595811",
     "exception": false,
     "start_time": "2023-07-13T20:56:25.157139",
     "status": "completed"
    },
    "tags": []
   },
   "source": [
    "Com ruído, percebemos que a acurácia dos exemplos de validação caiu muito. \n",
    "Uma MLP aprende a partir de pixels individuais.\n",
    "Um modelo Convolucional (CNN) captura melhor regiões, ou padrões espaciais de pixels.\n",
    "Veja o exemplo com CNN."
   ]
  },
  {
   "cell_type": "code",
   "execution_count": null,
   "metadata": {
    "papermill": {
     "duration": 0.435986,
     "end_time": "2023-07-13T20:56:26.474112",
     "exception": false,
     "start_time": "2023-07-13T20:56:26.038126",
     "status": "completed"
    },
    "tags": []
   },
   "outputs": [],
   "source": []
  }
 ],
 "metadata": {
  "kernelspec": {
   "display_name": "Python 3",
   "language": "python",
   "name": "python3"
  },
  "language_info": {
   "codemirror_mode": {
    "name": "ipython",
    "version": 3
   },
   "file_extension": ".py",
   "mimetype": "text/x-python",
   "name": "python",
   "nbconvert_exporter": "python",
   "pygments_lexer": "ipython3",
   "version": "3.7.6"
  },
  "papermill": {
   "duration": 91.115579,
   "end_time": "2023-07-13T20:56:28.019072",
   "environment_variables": {},
   "exception": null,
   "input_path": "__notebook__.ipynb",
   "output_path": "__notebook__.ipynb",
   "parameters": {},
   "start_time": "2023-07-13T20:54:56.903493",
   "version": "2.1.0"
  }
 },
 "nbformat": 4,
 "nbformat_minor": 4
}
