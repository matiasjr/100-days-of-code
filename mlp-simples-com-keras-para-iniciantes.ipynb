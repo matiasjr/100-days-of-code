{
 "cells": [
  {
   "cell_type": "markdown",
   "metadata": {
    "papermill": {
     "duration": 0.02001,
     "end_time": "2023-07-13T19:22:37.554399",
     "exception": false,
     "start_time": "2023-07-13T19:22:37.534389",
     "status": "completed"
    },
    "tags": []
   },
   "source": [
    "# Introdução"
   ]
  },
  {
   "cell_type": "markdown",
   "metadata": {
    "papermill": {
     "duration": 0.018211,
     "end_time": "2023-07-13T19:22:37.591565",
     "exception": false,
     "start_time": "2023-07-13T19:22:37.573354",
     "status": "completed"
    },
    "tags": []
   },
   "source": [
    "**Resumo:**\n",
    "\n",
    "O exemplo aqui desenvolvido tem como objetivo apresentar conceitos iniciais de implementação de redes neurais com python e tensorflow/keras. Esse modelo apresenta um modelo MLP básico que pode ser expandido mudando o número de neurônios e camadas. Em adaptações mais avançadas, pode-se estudar possibilidade de otimização de hyperparâmetros e outras técnincas como aumento de dados.\n",
    "\n",
    "**Não é objetivo nosso desenvolver e otimizar o modelo de classificação**. O exemplo tem objetivo meramente didático.\n",
    "\n",
    "---\n",
    "\n",
    "**Para saber mais:**\n",
    "* [Palestras e cursos do Ocean](http://www.oceanbrasil.com/)\n",
    "* François Chollet. Deep Learning with Python. Manning Publications, 2017.\n",
    "* Ian Goodfellow and Yoshua Bengio and Aaron Courville. [Deep Learning](https://www.deeplearningbook.org/). MIT Press, 2016."
   ]
  },
  {
   "cell_type": "markdown",
   "metadata": {
    "papermill": {
     "duration": 0.018358,
     "end_time": "2023-07-13T19:22:37.628757",
     "exception": false,
     "start_time": "2023-07-13T19:22:37.610399",
     "status": "completed"
    },
    "tags": []
   },
   "source": [
    "# Bibliotecas e Dados"
   ]
  },
  {
   "cell_type": "code",
   "execution_count": 1,
   "metadata": {
    "ExecuteTime": {
     "end_time": "2019-01-16T20:39:41.500258Z",
     "start_time": "2019-01-16T20:39:39.261856Z"
    },
    "execution": {
     "iopub.execute_input": "2023-07-13T19:22:37.670238Z",
     "iopub.status.busy": "2023-07-13T19:22:37.669556Z",
     "iopub.status.idle": "2023-07-13T19:22:43.283677Z",
     "shell.execute_reply": "2023-07-13T19:22:43.283012Z",
     "shell.execute_reply.started": "2023-07-13T19:08:54.033415Z"
    },
    "papermill": {
     "duration": 5.636407,
     "end_time": "2023-07-13T19:22:43.283890",
     "exception": false,
     "start_time": "2023-07-13T19:22:37.647483",
     "status": "completed"
    },
    "tags": []
   },
   "outputs": [],
   "source": [
    "# Bibliotecas necessárias\n",
    "# Manipulação de dados\n",
    "import pandas as pd\n",
    "# Redes Neurais\n",
    "from tensorflow import keras\n",
    "from tensorflow.keras.datasets import mnist\n",
    "from tensorflow.keras.models import Sequential\n",
    "from tensorflow.keras.layers import Dense, Dropout\n",
    "from tensorflow.keras.optimizers import RMSprop\n",
    "# Plot\n",
    "import matplotlib.pyplot as plt\n",
    "%matplotlib inline\n",
    "# Avaliação\n",
    "from sklearn.metrics import classification_report, confusion_matrix"
   ]
  },
  {
   "cell_type": "code",
   "execution_count": 2,
   "metadata": {
    "execution": {
     "iopub.execute_input": "2023-07-13T19:22:43.330461Z",
     "iopub.status.busy": "2023-07-13T19:22:43.329700Z",
     "iopub.status.idle": "2023-07-13T19:22:46.838996Z",
     "shell.execute_reply": "2023-07-13T19:22:46.838230Z",
     "shell.execute_reply.started": "2023-07-13T19:09:01.616639Z"
    },
    "papermill": {
     "duration": 3.536154,
     "end_time": "2023-07-13T19:22:46.839157",
     "exception": false,
     "start_time": "2023-07-13T19:22:43.303003",
     "status": "completed"
    },
    "tags": []
   },
   "outputs": [],
   "source": [
    "# Lendo o dataset Kaggle\n",
    "train = pd.read_csv(\"../input/digit-recognizer/train.csv\")\n",
    "\n",
    "#Alternativa ler do próprio keras\n",
    "#(x_train, y_train), (x_test, y_test) = mnist.load_data()\n"
   ]
  },
  {
   "cell_type": "code",
   "execution_count": 3,
   "metadata": {
    "execution": {
     "iopub.execute_input": "2023-07-13T19:22:46.890893Z",
     "iopub.status.busy": "2023-07-13T19:22:46.889878Z",
     "iopub.status.idle": "2023-07-13T19:22:46.896833Z",
     "shell.execute_reply": "2023-07-13T19:22:46.896178Z",
     "shell.execute_reply.started": "2023-07-13T19:09:11.496675Z"
    },
    "papermill": {
     "duration": 0.03883,
     "end_time": "2023-07-13T19:22:46.896968",
     "exception": false,
     "start_time": "2023-07-13T19:22:46.858138",
     "status": "completed"
    },
    "tags": []
   },
   "outputs": [
    {
     "name": "stdout",
     "output_type": "stream",
     "text": [
      "Quantidade de elementos de treino: 42000\n",
      "   label  pixel0  pixel1  pixel2  pixel3  pixel4  pixel5  pixel6  pixel7  \\\n",
      "0      1       0       0       0       0       0       0       0       0   \n",
      "1      0       0       0       0       0       0       0       0       0   \n",
      "2      1       0       0       0       0       0       0       0       0   \n",
      "3      4       0       0       0       0       0       0       0       0   \n",
      "4      0       0       0       0       0       0       0       0       0   \n",
      "\n",
      "   pixel8  ...  pixel774  pixel775  pixel776  pixel777  pixel778  pixel779  \\\n",
      "0       0  ...         0         0         0         0         0         0   \n",
      "1       0  ...         0         0         0         0         0         0   \n",
      "2       0  ...         0         0         0         0         0         0   \n",
      "3       0  ...         0         0         0         0         0         0   \n",
      "4       0  ...         0         0         0         0         0         0   \n",
      "\n",
      "   pixel780  pixel781  pixel782  pixel783  \n",
      "0         0         0         0         0  \n",
      "1         0         0         0         0  \n",
      "2         0         0         0         0  \n",
      "3         0         0         0         0  \n",
      "4         0         0         0         0  \n",
      "\n",
      "[5 rows x 785 columns]\n"
     ]
    }
   ],
   "source": [
    "# Analisando o dataset\n",
    "print(\"Quantidade de elementos de treino: {}\". format(len(train)))\n",
    "print(train.head())"
   ]
  },
  {
   "cell_type": "code",
   "execution_count": 4,
   "metadata": {
    "execution": {
     "iopub.execute_input": "2023-07-13T19:22:47.050794Z",
     "iopub.status.busy": "2023-07-13T19:22:47.049608Z",
     "iopub.status.idle": "2023-07-13T19:22:47.062979Z",
     "shell.execute_reply": "2023-07-13T19:22:47.062397Z",
     "shell.execute_reply.started": "2023-07-13T19:09:27.483015Z"
    },
    "papermill": {
     "duration": 0.146214,
     "end_time": "2023-07-13T19:22:47.063117",
     "exception": false,
     "start_time": "2023-07-13T19:22:46.916903",
     "status": "completed"
    },
    "tags": []
   },
   "outputs": [
    {
     "name": "stdout",
     "output_type": "stream",
     "text": [
      "   pixel0  pixel1  pixel2  pixel3  pixel4  pixel5  pixel6  pixel7  pixel8  \\\n",
      "0       0       0       0       0       0       0       0       0       0   \n",
      "1       0       0       0       0       0       0       0       0       0   \n",
      "2       0       0       0       0       0       0       0       0       0   \n",
      "3       0       0       0       0       0       0       0       0       0   \n",
      "4       0       0       0       0       0       0       0       0       0   \n",
      "\n",
      "   pixel9  ...  pixel774  pixel775  pixel776  pixel777  pixel778  pixel779  \\\n",
      "0       0  ...         0         0         0         0         0         0   \n",
      "1       0  ...         0         0         0         0         0         0   \n",
      "2       0  ...         0         0         0         0         0         0   \n",
      "3       0  ...         0         0         0         0         0         0   \n",
      "4       0  ...         0         0         0         0         0         0   \n",
      "\n",
      "   pixel780  pixel781  pixel782  pixel783  \n",
      "0         0         0         0         0  \n",
      "1         0         0         0         0  \n",
      "2         0         0         0         0  \n",
      "3         0         0         0         0  \n",
      "4         0         0         0         0  \n",
      "\n",
      "[5 rows x 784 columns]\n"
     ]
    }
   ],
   "source": [
    "# Separando x_train e y_train\n",
    "Y = train[\"label\"]\n",
    "X = train.drop(labels = [\"label\"],axis = 1)\n",
    "print(X.head())\n",
    "# Em formato numpy array de imagens 28 x 28\n",
    "#x = X.values.reshape(-1,28,28,1)\n",
    "#print(x[0])"
   ]
  },
  {
   "cell_type": "code",
   "execution_count": 5,
   "metadata": {
    "execution": {
     "iopub.execute_input": "2023-07-13T19:22:47.109700Z",
     "iopub.status.busy": "2023-07-13T19:22:47.108849Z",
     "iopub.status.idle": "2023-07-13T19:22:47.112102Z",
     "shell.execute_reply": "2023-07-13T19:22:47.112699Z",
     "shell.execute_reply.started": "2023-07-13T19:09:35.020442Z"
    },
    "papermill": {
     "duration": 0.029771,
     "end_time": "2023-07-13T19:22:47.112857",
     "exception": false,
     "start_time": "2023-07-13T19:22:47.083086",
     "status": "completed"
    },
    "tags": []
   },
   "outputs": [
    {
     "name": "stdout",
     "output_type": "stream",
     "text": [
      "0        1\n",
      "1        0\n",
      "2        1\n",
      "3        4\n",
      "4        0\n",
      "        ..\n",
      "41995    0\n",
      "41996    1\n",
      "41997    7\n",
      "41998    6\n",
      "41999    9\n",
      "Name: label, Length: 42000, dtype: int64\n"
     ]
    }
   ],
   "source": [
    "print(Y)"
   ]
  },
  {
   "cell_type": "code",
   "execution_count": 6,
   "metadata": {
    "ExecuteTime": {
     "end_time": "2019-01-08T20:49:47.144492Z",
     "start_time": "2019-01-08T20:49:47.016025Z"
    },
    "execution": {
     "iopub.execute_input": "2023-07-13T19:22:47.156376Z",
     "iopub.status.busy": "2023-07-13T19:22:47.155708Z",
     "iopub.status.idle": "2023-07-13T19:22:47.346273Z",
     "shell.execute_reply": "2023-07-13T19:22:47.345636Z",
     "shell.execute_reply.started": "2023-07-13T19:09:38.869138Z"
    },
    "papermill": {
     "duration": 0.213862,
     "end_time": "2023-07-13T19:22:47.346403",
     "exception": false,
     "start_time": "2023-07-13T19:22:47.132541",
     "status": "completed"
    },
    "tags": []
   },
   "outputs": [
    {
     "data": {
      "image/png": "[encoded data removed]",
      "text/plain": [
       "<Figure size 432x288 with 1 Axes>"
      ]
     },
     "metadata": {
      "needs_background": "light"
     },
     "output_type": "display_data"
    },
    {
     "name": "stdout",
     "output_type": "stream",
     "text": [
      "Label: 9\n"
     ]
    }
   ],
   "source": [
    "# Numtendi nada!\n",
    "# Bora ver com matplotlib\n",
    "plt.imshow(X.values[100].reshape(28,28), cmap=plt.cm.binary)\n",
    "plt.show()\n",
    "print('Label: {}'.format(Y[100]))"
   ]
  },
  {
   "cell_type": "code",
   "execution_count": 7,
   "metadata": {
    "ExecuteTime": {
     "end_time": "2019-01-08T20:49:57.425537Z",
     "start_time": "2019-01-08T20:49:57.272377Z"
    },
    "execution": {
     "iopub.execute_input": "2023-07-13T19:22:47.392147Z",
     "iopub.status.busy": "2023-07-13T19:22:47.391125Z",
     "iopub.status.idle": "2023-07-13T19:22:47.493345Z",
     "shell.execute_reply": "2023-07-13T19:22:47.493902Z",
     "shell.execute_reply.started": "2023-07-13T19:10:11.022906Z"
    },
    "papermill": {
     "duration": 0.126524,
     "end_time": "2023-07-13T19:22:47.494061",
     "exception": false,
     "start_time": "2023-07-13T19:22:47.367537",
     "status": "completed"
    },
    "tags": []
   },
   "outputs": [
    {
     "name": "stdout",
     "output_type": "stream",
     "text": [
      "[0.         0.         0.         0.         0.         0.\n",
      " 0.         0.         0.         0.         0.         0.\n",
      " 0.         0.         0.         0.         0.         0.\n",
      " 0.         0.         0.         0.         0.         0.\n",
      " 0.         0.         0.         0.         0.         0.\n",
      " 0.         0.         0.         0.         0.         0.\n",
      " 0.         0.         0.         0.         0.         0.\n",
      " 0.         0.         0.         0.         0.         0.\n",
      " 0.         0.         0.         0.         0.         0.\n",
      " 0.         0.         0.         0.         0.         0.\n",
      " 0.         0.         0.         0.         0.         0.\n",
      " 0.         0.         0.         0.         0.         0.\n",
      " 0.         0.         0.         0.         0.         0.\n",
      " 0.         0.         0.         0.         0.         0.\n",
      " 0.         0.         0.         0.         0.         0.\n",
      " 0.         0.         0.         0.         0.         0.\n",
      " 0.         0.         0.         0.         0.         0.\n",
      " 0.         0.         0.         0.         0.         0.\n",
      " 0.         0.         0.         0.         0.         0.\n",
      " 0.         0.         0.         0.         0.         0.\n",
      " 0.         0.         0.         0.         0.         0.\n",
      " 0.         0.         0.         0.         0.         0.\n",
      " 0.7372549  1.         0.36862746 0.         0.         0.\n",
      " 0.         0.         0.         0.         0.         0.\n",
      " 0.         0.         0.         0.         0.         0.\n",
      " 0.         0.         0.         0.         0.         0.\n",
      " 0.         0.         0.         0.7490196  0.98039216 0.99215686\n",
      " 0.3647059  0.         0.         0.         0.         0.\n",
      " 0.         0.         0.         0.         0.         0.\n",
      " 0.         0.         0.         0.         0.         0.\n",
      " 0.         0.         0.         0.         0.         0.\n",
      " 0.48235294 0.972549   0.99215686 0.654902   0.03921569 0.\n",
      " 0.         0.         0.         0.         0.         0.\n",
      " 0.         0.         0.         0.         0.         0.\n",
      " 0.         0.         0.         0.         0.         0.\n",
      " 0.         0.         0.         0.3137255  0.96862745 0.99215686\n",
      " 0.8156863  0.05098039 0.         0.         0.         0.\n",
      " 0.         0.         0.         0.         0.         0.\n",
      " 0.         0.         0.         0.         0.         0.\n",
      " 0.         0.         0.         0.         0.         0.\n",
      " 0.11372549 0.8117647  0.99215686 0.92156863 0.3019608  0.\n",
      " 0.         0.         0.         0.         0.         0.\n",
      " 0.         0.         0.         0.         0.         0.\n",
      " 0.         0.         0.         0.         0.         0.\n",
      " 0.         0.         0.         0.21176471 0.81960785 0.99215686\n",
      " 0.99215686 0.34509805 0.         0.         0.         0.\n",
      " 0.         0.         0.         0.         0.         0.\n",
      " 0.         0.         0.         0.         0.         0.\n",
      " 0.         0.         0.         0.         0.         0.\n",
      " 0.3647059  0.99607843 0.99215686 0.93333334 0.6666667  0.06666667\n",
      " 0.         0.         0.         0.         0.         0.\n",
      " 0.         0.         0.         0.         0.         0.\n",
      " 0.         0.         0.         0.         0.         0.\n",
      " 0.         0.         0.         0.09019608 0.8235294  0.99607843\n",
      " 0.99215686 0.62352943 0.         0.         0.         0.\n",
      " 0.         0.         0.         0.         0.         0.\n",
      " 0.         0.         0.         0.         0.         0.\n",
      " 0.         0.         0.         0.         0.         0.\n",
      " 0.0627451  0.81960785 0.99215686 0.99607843 0.9411765  0.31764707\n",
      " 0.         0.         0.         0.         0.         0.\n",
      " 0.         0.         0.         0.         0.         0.\n",
      " 0.         0.         0.         0.         0.         0.\n",
      " 0.         0.         0.         0.         0.10588235 0.99215686\n",
      " 0.99215686 0.99607843 0.05098039 0.         0.         0.\n",
      " 0.         0.         0.         0.         0.         0.\n",
      " 0.         0.         0.         0.         0.         0.\n",
      " 0.         0.         0.         0.         0.         0.\n",
      " 0.         0.07843138 0.80784315 0.99607843 0.99607843 0.7764706\n",
      " 0.02745098 0.         0.         0.         0.         0.\n",
      " 0.         0.         0.         0.         0.         0.\n",
      " 0.         0.         0.         0.         0.         0.\n",
      " 0.         0.         0.         0.         0.         0.65882355\n",
      " 0.99215686 0.99215686 0.76862746 0.02745098 0.         0.\n",
      " 0.         0.         0.         0.         0.         0.\n",
      " 0.         0.         0.         0.         0.         0.\n",
      " 0.         0.         0.         0.         0.         0.\n",
      " 0.         0.         0.07843138 0.79607844 0.99215686 0.972549\n",
      " 0.29803923 0.         0.         0.         0.         0.\n",
      " 0.         0.         0.         0.         0.         0.\n",
      " 0.         0.         0.         0.         0.         0.\n",
      " 0.         0.         0.         0.         0.         0.08627451\n",
      " 0.7372549  0.99215686 0.9607843  0.3647059  0.         0.\n",
      " 0.         0.         0.         0.         0.         0.\n",
      " 0.         0.         0.         0.         0.         0.\n",
      " 0.         0.         0.         0.         0.         0.\n",
      " 0.         0.         0.         0.40392157 0.99215686 0.99215686\n",
      " 0.7490196  0.         0.         0.         0.         0.\n",
      " 0.         0.         0.         0.         0.         0.\n",
      " 0.         0.         0.         0.         0.         0.\n",
      " 0.         0.         0.         0.         0.         0.\n",
      " 0.34901962 0.9411765  0.99215686 0.7647059  0.09803922 0.\n",
      " 0.         0.         0.         0.         0.         0.\n",
      " 0.         0.         0.         0.         0.         0.\n",
      " 0.         0.         0.         0.         0.         0.\n",
      " 0.         0.         0.         0.05882353 0.8627451  0.99215686\n",
      " 0.99215686 0.3137255  0.         0.         0.         0.\n",
      " 0.         0.         0.         0.         0.         0.\n",
      " 0.         0.         0.         0.         0.         0.\n",
      " 0.         0.         0.         0.         0.         0.\n",
      " 0.         0.36862746 0.99215686 0.99215686 0.99215686 0.36862746\n",
      " 0.         0.         0.         0.         0.         0.\n",
      " 0.         0.         0.         0.         0.         0.\n",
      " 0.         0.         0.         0.         0.         0.\n",
      " 0.         0.         0.         0.         0.         0.34901962\n",
      " 0.9843137  0.99215686 0.98039216 0.5137255  0.         0.\n",
      " 0.         0.         0.         0.         0.         0.\n",
      " 0.         0.         0.         0.         0.         0.\n",
      " 0.         0.         0.         0.         0.         0.\n",
      " 0.         0.         0.         0.         0.8392157  0.85490197\n",
      " 0.37254903 0.         0.         0.         0.         0.\n",
      " 0.         0.         0.         0.         0.         0.\n",
      " 0.         0.         0.         0.         0.         0.\n",
      " 0.         0.         0.         0.         0.         0.\n",
      " 0.         0.         0.         0.         0.         0.\n",
      " 0.         0.         0.         0.         0.         0.\n",
      " 0.         0.         0.         0.         0.         0.\n",
      " 0.         0.         0.         0.         0.         0.\n",
      " 0.         0.         0.         0.         0.         0.\n",
      " 0.         0.         0.         0.         0.         0.\n",
      " 0.         0.         0.         0.         0.         0.\n",
      " 0.         0.         0.         0.         0.         0.\n",
      " 0.         0.         0.         0.         0.         0.\n",
      " 0.         0.         0.         0.         0.         0.\n",
      " 0.         0.         0.         0.         0.         0.\n",
      " 0.         0.         0.         0.         0.         0.\n",
      " 0.         0.         0.         0.         0.         0.\n",
      " 0.         0.         0.         0.         0.         0.\n",
      " 0.         0.         0.         0.         0.         0.\n",
      " 0.         0.         0.         0.         0.         0.\n",
      " 0.         0.         0.         0.         0.         0.\n",
      " 0.         0.         0.         0.        ]\n"
     ]
    }
   ],
   "source": [
    "# Transformando a imagem 2d em um numpy array (imagem 28*28 = 784 pixels)\n",
    "x = X.values.reshape(42000, 784)\n",
    "\n",
    "#Normalizando para valores entre 0 e 1\n",
    "x = x.astype('float32')\n",
    "x /= 255\n",
    "\n",
    "print(x[0])"
   ]
  },
  {
   "cell_type": "code",
   "execution_count": 8,
   "metadata": {
    "ExecuteTime": {
     "end_time": "2019-01-08T20:50:48.007428Z",
     "start_time": "2019-01-08T20:50:47.986527Z"
    },
    "execution": {
     "iopub.execute_input": "2023-07-13T19:22:47.542827Z",
     "iopub.status.busy": "2023-07-13T19:22:47.541883Z",
     "iopub.status.idle": "2023-07-13T19:22:47.546865Z",
     "shell.execute_reply": "2023-07-13T19:22:47.546285Z",
     "shell.execute_reply.started": "2023-07-13T19:10:17.007247Z"
    },
    "papermill": {
     "duration": 0.031345,
     "end_time": "2023-07-13T19:22:47.546984",
     "exception": false,
     "start_time": "2023-07-13T19:22:47.515639",
     "status": "completed"
    },
    "tags": []
   },
   "outputs": [
    {
     "name": "stdout",
     "output_type": "stream",
     "text": [
      "[0. 1. 0. 0. 0. 0. 0. 0. 0. 0.]\n"
     ]
    }
   ],
   "source": [
    "# Vamos ajustar o formato da saida\n",
    "num_classes = 10\n",
    "\n",
    "# Convertendo para um vetor de saida com 10 dimensoes\n",
    "# ex. 8 => [0,0,0,0,0,0,0,0,1,0]\n",
    "y = keras.utils.to_categorical(Y, num_classes)\n",
    "print(y[0])"
   ]
  },
  {
   "cell_type": "code",
   "execution_count": 9,
   "metadata": {
    "execution": {
     "iopub.execute_input": "2023-07-13T19:22:47.597249Z",
     "iopub.status.busy": "2023-07-13T19:22:47.596350Z",
     "iopub.status.idle": "2023-07-13T19:22:47.977004Z",
     "shell.execute_reply": "2023-07-13T19:22:47.977516Z",
     "shell.execute_reply.started": "2023-07-13T19:10:20.933346Z"
    },
    "papermill": {
     "duration": 0.409222,
     "end_time": "2023-07-13T19:22:47.977719",
     "exception": false,
     "start_time": "2023-07-13T19:22:47.568497",
     "status": "completed"
    },
    "tags": []
   },
   "outputs": [
    {
     "name": "stdout",
     "output_type": "stream",
     "text": [
      "Qtde de treino: 37800\n",
      "Qtde de validação: 4200\n"
     ]
    }
   ],
   "source": [
    "# Separando uma parte para treino (90%) e outra para validação (10%)\n",
    "from sklearn.model_selection import train_test_split\n",
    "x_train, x_val, y_train, y_val = train_test_split(x, y, test_size = 0.1, random_state=9)\n",
    "print('Qtde de treino: {}'.format(len(x_train)))\n",
    "print('Qtde de validação: {}'.format(len(x_val)))"
   ]
  },
  {
   "cell_type": "markdown",
   "metadata": {
    "papermill": {
     "duration": 0.022292,
     "end_time": "2023-07-13T19:22:48.022515",
     "exception": false,
     "start_time": "2023-07-13T19:22:48.000223",
     "status": "completed"
    },
    "tags": []
   },
   "source": [
    "# Criando e treinando o Modelo"
   ]
  },
  {
   "cell_type": "code",
   "execution_count": 10,
   "metadata": {
    "ExecuteTime": {
     "end_time": "2019-01-08T21:38:00.233865Z",
     "start_time": "2019-01-08T21:38:00.15079Z"
    },
    "execution": {
     "iopub.execute_input": "2023-07-13T19:22:48.069712Z",
     "iopub.status.busy": "2023-07-13T19:22:48.069019Z",
     "iopub.status.idle": "2023-07-13T19:22:48.231646Z",
     "shell.execute_reply": "2023-07-13T19:22:48.232260Z",
     "shell.execute_reply.started": "2023-07-13T19:15:17.893083Z"
    },
    "papermill": {
     "duration": 0.187961,
     "end_time": "2023-07-13T19:22:48.232452",
     "exception": false,
     "start_time": "2023-07-13T19:22:48.044491",
     "status": "completed"
    },
    "scrolled": true,
    "tags": []
   },
   "outputs": [
    {
     "name": "stdout",
     "output_type": "stream",
     "text": [
      "Model: \"sequential\"\n",
      "_________________________________________________________________\n",
      "Layer (type)                 Output Shape              Param #   \n",
      "=================================================================\n",
      "dense (Dense)                (None, 30)                23550     \n",
      "_________________________________________________________________\n",
      "dropout (Dropout)            (None, 30)                0         \n",
      "_________________________________________________________________\n",
      "dense_1 (Dense)              (None, 20)                620       \n",
      "_________________________________________________________________\n",
      "dropout_1 (Dropout)          (None, 20)                0         \n",
      "_________________________________________________________________\n",
      "dense_2 (Dense)              (None, 10)                210       \n",
      "=================================================================\n",
      "Total params: 24,380\n",
      "Trainable params: 24,380\n",
      "Non-trainable params: 0\n",
      "_________________________________________________________________\n"
     ]
    }
   ],
   "source": [
    "# Criando o modelo Sequential\n",
    "# Sequential: Modelo Keras de ir adicionando camadas (como um lego)\n",
    "# Dense: Camada onde todas as entradas estão conectadas em cada neurônio (totalmente conectada)\n",
    "# Dropout: Camada usa durante treino que descarta aleatoriamente um percentual de conexões (reduz overfitting)\n",
    "\n",
    "model = Sequential()\n",
    "# Camada com 30 neurônios\n",
    "model.add(Dense(30, activation='relu', input_shape=(784,)))\n",
    "# Dropout de 20%\n",
    "model.add(Dropout(0.2))\n",
    "# Camada de 20 neurônios\n",
    "model.add(Dense(20, activation='relu'))\n",
    "# Dropout de 20%\n",
    "model.add(Dropout(0.2))\n",
    "# Camda de classificação final, com 1 neurônio para cada classe de saída. Softmax divide a probabilidade de cada classe.\n",
    "model.add(Dense(num_classes, activation='softmax'))\n",
    "\n",
    "model.summary()"
   ]
  },
  {
   "cell_type": "code",
   "execution_count": 11,
   "metadata": {
    "ExecuteTime": {
     "end_time": "2019-01-08T21:33:17.184644Z",
     "start_time": "2019-01-08T21:33:17.129141Z"
    },
    "execution": {
     "iopub.execute_input": "2023-07-13T19:22:48.281166Z",
     "iopub.status.busy": "2023-07-13T19:22:48.280403Z",
     "iopub.status.idle": "2023-07-13T19:22:48.318073Z",
     "shell.execute_reply": "2023-07-13T19:22:48.317434Z",
     "shell.execute_reply.started": "2023-07-13T19:15:25.727417Z"
    },
    "papermill": {
     "duration": 0.063254,
     "end_time": "2023-07-13T19:22:48.318204",
     "exception": false,
     "start_time": "2023-07-13T19:22:48.254950",
     "status": "completed"
    },
    "tags": []
   },
   "outputs": [],
   "source": [
    "# Compila o modelo\n",
    "model.compile(loss='categorical_crossentropy',\n",
    "              optimizer=RMSprop(),\n",
    "              metrics=['accuracy'])"
   ]
  },
  {
   "cell_type": "code",
   "execution_count": 12,
   "metadata": {
    "ExecuteTime": {
     "end_time": "2019-01-08T21:36:15.501168Z",
     "start_time": "2019-01-08T21:33:19.322895Z"
    },
    "execution": {
     "iopub.execute_input": "2023-07-13T19:22:48.494275Z",
     "iopub.status.busy": "2023-07-13T19:22:48.493482Z",
     "iopub.status.idle": "2023-07-13T19:23:47.190600Z",
     "shell.execute_reply": "2023-07-13T19:23:47.189786Z",
     "shell.execute_reply.started": "2023-07-13T19:15:32.029404Z"
    },
    "papermill": {
     "duration": 58.849666,
     "end_time": "2023-07-13T19:23:47.190796",
     "exception": false,
     "start_time": "2023-07-13T19:22:48.341130",
     "status": "completed"
    },
    "tags": []
   },
   "outputs": [
    {
     "name": "stdout",
     "output_type": "stream",
     "text": [
      "Train on 37800 samples, validate on 4200 samples\n",
      "Epoch 1/30\n",
      "37800/37800 [==============================] - 3s 68us/sample - loss: 0.7384 - accuracy: 0.7656 - val_loss: 0.2835 - val_accuracy: 0.9205\n",
      "Epoch 2/30\n",
      "37800/37800 [==============================] - 2s 51us/sample - loss: 0.4262 - accuracy: 0.8723 - val_loss: 0.2434 - val_accuracy: 0.9338\n",
      "Epoch 3/30\n",
      "37800/37800 [==============================] - 2s 51us/sample - loss: 0.3710 - accuracy: 0.8905 - val_loss: 0.2275 - val_accuracy: 0.9336\n",
      "Epoch 4/30\n",
      "37800/37800 [==============================] - 2s 50us/sample - loss: 0.3392 - accuracy: 0.9024 - val_loss: 0.2100 - val_accuracy: 0.9426\n",
      "Epoch 5/30\n",
      "37800/37800 [==============================] - 2s 50us/sample - loss: 0.3254 - accuracy: 0.9079 - val_loss: 0.2097 - val_accuracy: 0.9405\n",
      "Epoch 6/30\n",
      "37800/37800 [==============================] - 2s 51us/sample - loss: 0.3164 - accuracy: 0.9110 - val_loss: 0.2112 - val_accuracy: 0.9445\n",
      "Epoch 7/30\n",
      "37800/37800 [==============================] - 2s 52us/sample - loss: 0.3072 - accuracy: 0.9136 - val_loss: 0.2062 - val_accuracy: 0.9471\n",
      "Epoch 8/30\n",
      "37800/37800 [==============================] - 2s 51us/sample - loss: 0.3018 - accuracy: 0.9172 - val_loss: 0.2029 - val_accuracy: 0.9474\n",
      "Epoch 9/30\n",
      "37800/37800 [==============================] - 2s 51us/sample - loss: 0.2974 - accuracy: 0.9188 - val_loss: 0.1916 - val_accuracy: 0.9464\n",
      "Epoch 10/30\n",
      "37800/37800 [==============================] - 2s 51us/sample - loss: 0.2959 - accuracy: 0.9195 - val_loss: 0.1949 - val_accuracy: 0.9469\n",
      "Epoch 11/30\n",
      "37800/37800 [==============================] - 2s 50us/sample - loss: 0.2876 - accuracy: 0.9209 - val_loss: 0.1950 - val_accuracy: 0.9486\n",
      "Epoch 12/30\n",
      "37800/37800 [==============================] - 2s 51us/sample - loss: 0.2880 - accuracy: 0.9228 - val_loss: 0.1986 - val_accuracy: 0.9476\n",
      "Epoch 13/30\n",
      "37800/37800 [==============================] - 2s 51us/sample - loss: 0.2843 - accuracy: 0.9235 - val_loss: 0.1976 - val_accuracy: 0.9507\n",
      "Epoch 14/30\n",
      "37800/37800 [==============================] - 2s 54us/sample - loss: 0.2821 - accuracy: 0.9249 - val_loss: 0.2036 - val_accuracy: 0.9512\n",
      "Epoch 15/30\n",
      "37800/37800 [==============================] - 2s 51us/sample - loss: 0.2870 - accuracy: 0.9245 - val_loss: 0.1971 - val_accuracy: 0.9529\n",
      "Epoch 16/30\n",
      "37800/37800 [==============================] - 2s 51us/sample - loss: 0.2853 - accuracy: 0.9260 - val_loss: 0.2030 - val_accuracy: 0.9500\n",
      "Epoch 17/30\n",
      "37800/37800 [==============================] - 2s 51us/sample - loss: 0.2821 - accuracy: 0.9255 - val_loss: 0.1927 - val_accuracy: 0.9519\n",
      "Epoch 18/30\n",
      "37800/37800 [==============================] - 2s 50us/sample - loss: 0.2836 - accuracy: 0.9280 - val_loss: 0.2002 - val_accuracy: 0.9507\n",
      "Epoch 19/30\n",
      "37800/37800 [==============================] - 2s 51us/sample - loss: 0.2841 - accuracy: 0.9261 - val_loss: 0.1980 - val_accuracy: 0.9529\n",
      "Epoch 20/30\n",
      "37800/37800 [==============================] - 2s 51us/sample - loss: 0.2837 - accuracy: 0.9293 - val_loss: 0.2028 - val_accuracy: 0.9524\n",
      "Epoch 21/30\n",
      "37800/37800 [==============================] - 2s 51us/sample - loss: 0.2824 - accuracy: 0.9275 - val_loss: 0.2056 - val_accuracy: 0.9524\n",
      "Epoch 22/30\n",
      "37800/37800 [==============================] - 2s 50us/sample - loss: 0.2825 - accuracy: 0.9276 - val_loss: 0.2243 - val_accuracy: 0.9538\n",
      "Epoch 23/30\n",
      "37800/37800 [==============================] - 2s 51us/sample - loss: 0.2867 - accuracy: 0.9274 - val_loss: 0.2061 - val_accuracy: 0.9538\n",
      "Epoch 24/30\n",
      "37800/37800 [==============================] - 2s 50us/sample - loss: 0.2846 - accuracy: 0.9282 - val_loss: 0.2116 - val_accuracy: 0.9521\n",
      "Epoch 25/30\n",
      "37800/37800 [==============================] - 2s 51us/sample - loss: 0.2834 - accuracy: 0.9271 - val_loss: 0.2199 - val_accuracy: 0.9510\n",
      "Epoch 26/30\n",
      "37800/37800 [==============================] - 2s 50us/sample - loss: 0.2859 - accuracy: 0.9288 - val_loss: 0.2253 - val_accuracy: 0.9540\n",
      "Epoch 27/30\n",
      "37800/37800 [==============================] - 2s 51us/sample - loss: 0.2809 - accuracy: 0.9271 - val_loss: 0.2262 - val_accuracy: 0.9533\n",
      "Epoch 28/30\n",
      "37800/37800 [==============================] - 2s 52us/sample - loss: 0.2891 - accuracy: 0.9275 - val_loss: 0.2202 - val_accuracy: 0.9533\n",
      "Epoch 29/30\n",
      "37800/37800 [==============================] - 2s 51us/sample - loss: 0.2913 - accuracy: 0.9279 - val_loss: 0.2154 - val_accuracy: 0.9526\n",
      "Epoch 30/30\n",
      "37800/37800 [==============================] - 2s 53us/sample - loss: 0.2901 - accuracy: 0.9294 - val_loss: 0.2256 - val_accuracy: 0.9521\n"
     ]
    }
   ],
   "source": [
    "# Treina com os parte dos dados\n",
    "batch_size = 32\n",
    "epochs = 30\n",
    "history = model.fit(x_train, y_train,\n",
    "                    batch_size=batch_size,\n",
    "                    epochs=epochs,\n",
    "                    verbose=1,\n",
    "                    validation_data=(x_val, y_val))"
   ]
  },
  {
   "cell_type": "code",
   "execution_count": 13,
   "metadata": {
    "ExecuteTime": {
     "end_time": "2019-01-08T21:36:20.243921Z",
     "start_time": "2019-01-08T21:36:20.064201Z"
    },
    "execution": {
     "iopub.execute_input": "2023-07-13T19:23:47.918940Z",
     "iopub.status.busy": "2023-07-13T19:23:47.915855Z",
     "iopub.status.idle": "2023-07-13T19:23:48.246144Z",
     "shell.execute_reply": "2023-07-13T19:23:48.245471Z",
     "shell.execute_reply.started": "2023-07-13T19:17:30.472524Z"
    },
    "papermill": {
     "duration": 0.69599,
     "end_time": "2023-07-13T19:23:48.246271",
     "exception": false,
     "start_time": "2023-07-13T19:23:47.550281",
     "status": "completed"
    },
    "tags": []
   },
   "outputs": [
    {
     "data": {
      "image/png": "[encoded data removed]",
      "text/plain": [
       "<Figure size 1152x576 with 2 Axes>"
      ]
     },
     "metadata": {
      "needs_background": "light"
     },
     "output_type": "display_data"
    }
   ],
   "source": [
    "#Vamos ver como foi o treino?\n",
    "\n",
    "fig, ax = plt.subplots(1,2, figsize=(16,8))\n",
    "ax[0].plot(history.history['loss'], color='b', label=\"Training loss\")\n",
    "ax[0].plot(history.history['val_loss'], color='r', label=\"validation loss\",axes =ax[0])\n",
    "legend = ax[0].legend(loc='best', shadow=True)\n",
    "\n",
    "ax[1].plot(history.history['accuracy'], color='b', label=\"Training accuracy\")\n",
    "ax[1].plot(history.history['val_accuracy'], color='r',label=\"Validation accuracy\")\n",
    "legend = ax[1].legend(loc='best', shadow=True)"
   ]
  },
  {
   "cell_type": "code",
   "execution_count": 14,
   "metadata": {
    "ExecuteTime": {
     "end_time": "2019-01-08T21:36:39.779842Z",
     "start_time": "2019-01-08T21:36:38.946173Z"
    },
    "execution": {
     "iopub.execute_input": "2023-07-13T19:23:48.951521Z",
     "iopub.status.busy": "2023-07-13T19:23:48.950834Z",
     "iopub.status.idle": "2023-07-13T19:23:49.104521Z",
     "shell.execute_reply": "2023-07-13T19:23:49.105163Z",
     "shell.execute_reply.started": "2023-07-13T19:17:39.858983Z"
    },
    "papermill": {
     "duration": 0.508772,
     "end_time": "2023-07-13T19:23:49.105324",
     "exception": false,
     "start_time": "2023-07-13T19:23:48.596552",
     "status": "completed"
    },
    "tags": []
   },
   "outputs": [
    {
     "name": "stdout",
     "output_type": "stream",
     "text": [
      "Test loss: 0.22562070060610062\n",
      "Test accuracy: 0.95214283\n"
     ]
    }
   ],
   "source": [
    "# Testa\n",
    "score = model.evaluate(x_val, y_val, verbose=0)\n",
    "print('Test loss:', score[0])\n",
    "print('Test accuracy:', score[1])"
   ]
  },
  {
   "cell_type": "code",
   "execution_count": 15,
   "metadata": {
    "execution": {
     "iopub.execute_input": "2023-07-13T19:23:49.803579Z",
     "iopub.status.busy": "2023-07-13T19:23:49.802913Z",
     "iopub.status.idle": "2023-07-13T19:23:49.809132Z",
     "shell.execute_reply": "2023-07-13T19:23:49.808575Z",
     "shell.execute_reply.started": "2023-07-13T19:17:50.404438Z"
    },
    "papermill": {
     "duration": 0.354685,
     "end_time": "2023-07-13T19:23:49.809262",
     "exception": false,
     "start_time": "2023-07-13T19:23:49.454577",
     "status": "completed"
    },
    "tags": []
   },
   "outputs": [
    {
     "data": {
      "text/plain": [
       "8"
      ]
     },
     "execution_count": 15,
     "metadata": {},
     "output_type": "execute_result"
    }
   ],
   "source": [
    "Y[10]"
   ]
  },
  {
   "cell_type": "code",
   "execution_count": 16,
   "metadata": {
    "ExecuteTime": {
     "end_time": "2019-01-08T21:06:04.363715Z",
     "start_time": "2019-01-08T21:06:04.27849Z"
    },
    "execution": {
     "iopub.execute_input": "2023-07-13T19:23:50.509476Z",
     "iopub.status.busy": "2023-07-13T19:23:50.508412Z",
     "iopub.status.idle": "2023-07-13T19:23:50.593064Z",
     "shell.execute_reply": "2023-07-13T19:23:50.592287Z",
     "shell.execute_reply.started": "2023-07-13T19:17:54.606035Z"
    },
    "papermill": {
     "duration": 0.436016,
     "end_time": "2023-07-13T19:23:50.593204",
     "exception": false,
     "start_time": "2023-07-13T19:23:50.157188",
     "status": "completed"
    },
    "tags": []
   },
   "outputs": [
    {
     "name": "stdout",
     "output_type": "stream",
     "text": [
      "[0. 0. 0. 1. 0. 0. 0. 0. 0. 0.]\n",
      "[[0.0000000e+00 3.6422948e-38 5.2561989e-16 1.0000000e+00 0.0000000e+00\n",
      "  1.1659114e-12 0.0000000e+00 9.8452208e-25 1.0573137e-25 1.1253234e-34]]\n",
      "[3]\n"
     ]
    }
   ],
   "source": [
    "# Testando uma entrada qualquer\n",
    "print(y_train[10])\n",
    "print(model.predict(x_train[10].reshape((1,784))))\n",
    "print(model.predict_classes(x_train[10].reshape((1,784))))"
   ]
  },
  {
   "cell_type": "markdown",
   "metadata": {
    "papermill": {
     "duration": 0.34874,
     "end_time": "2023-07-13T19:23:51.293320",
     "exception": false,
     "start_time": "2023-07-13T19:23:50.944580",
     "status": "completed"
    },
    "tags": []
   },
   "source": [
    "# Avaliando o Modelo"
   ]
  },
  {
   "cell_type": "code",
   "execution_count": 17,
   "metadata": {
    "execution": {
     "iopub.execute_input": "2023-07-13T19:23:52.078296Z",
     "iopub.status.busy": "2023-07-13T19:23:52.077178Z",
     "iopub.status.idle": "2023-07-13T19:23:52.080344Z",
     "shell.execute_reply": "2023-07-13T19:23:52.079530Z",
     "shell.execute_reply.started": "2023-07-13T19:18:52.100444Z"
    },
    "papermill": {
     "duration": 0.385295,
     "end_time": "2023-07-13T19:23:52.080484",
     "exception": false,
     "start_time": "2023-07-13T19:23:51.695189",
     "status": "completed"
    },
    "tags": []
   },
   "outputs": [],
   "source": [
    "import itertools\n",
    "#Plot the confusion matrix. Set Normalize = True/False\n",
    "def plot_confusion_matrix(cm, classes, normalize=True, title='Confusion matrix', cmap=plt.cm.Blues):\n",
    "    \"\"\"\n",
    "    This function prints and plots the confusion matrix.\n",
    "    Normalization can be applied by setting `normalize=True`.\n",
    "    \"\"\"\n",
    "    plt.figure(figsize=(10,10))\n",
    "    plt.imshow(cm, interpolation='nearest', cmap=cmap)\n",
    "    plt.title(title)\n",
    "    plt.colorbar()\n",
    "    tick_marks = np.arange(len(classes))\n",
    "    plt.xticks(tick_marks, classes, rotation=45)\n",
    "    plt.yticks(tick_marks, classes)\n",
    "    if normalize:\n",
    "        cm = cm.astype('float') / cm.sum(axis=1)[:, np.newaxis]\n",
    "        cm = np.around(cm, decimals=2)\n",
    "        cm[np.isnan(cm)] = 0.0\n",
    "    thresh = cm.max() / 2.\n",
    "    for i, j in itertools.product(range(cm.shape[0]), range(cm.shape[1])):\n",
    "        plt.text(j, i, cm[i, j],\n",
    "                 horizontalalignment=\"center\",\n",
    "                 color=\"white\" if cm[i, j] > thresh else \"black\")\n",
    "    plt.tight_layout()\n",
    "    plt.ylabel('True label')\n",
    "    plt.xlabel('Predicted label')"
   ]
  },
  {
   "cell_type": "code",
   "execution_count": 18,
   "metadata": {
    "ExecuteTime": {
     "end_time": "2019-01-08T21:24:57.7654Z",
     "start_time": "2019-01-08T21:24:57.220867Z"
    },
    "execution": {
     "iopub.execute_input": "2023-07-13T19:23:52.781269Z",
     "iopub.status.busy": "2023-07-13T19:23:52.780072Z",
     "iopub.status.idle": "2023-07-13T19:23:53.509304Z",
     "shell.execute_reply": "2023-07-13T19:23:53.509849Z",
     "shell.execute_reply.started": "2023-07-13T19:18:57.492851Z"
    },
    "papermill": {
     "duration": 1.082951,
     "end_time": "2023-07-13T19:23:53.510009",
     "exception": false,
     "start_time": "2023-07-13T19:23:52.427058",
     "status": "completed"
    },
    "tags": []
   },
   "outputs": [
    {
     "name": "stdout",
     "output_type": "stream",
     "text": [
      "Classification Report\n",
      "              precision    recall  f1-score   support\n",
      "\n",
      "           0       0.97      0.98      0.98       396\n",
      "           1       0.98      0.96      0.97       488\n",
      "           2       0.96      0.96      0.96       395\n",
      "           3       0.95      0.94      0.95       445\n",
      "           4       0.95      0.96      0.96       441\n",
      "           5       0.91      0.96      0.94       384\n",
      "           6       0.95      0.95      0.95       398\n",
      "           7       0.98      0.93      0.95       428\n",
      "           8       0.95      0.93      0.94       416\n",
      "           9       0.92      0.94      0.93       409\n",
      "\n",
      "    accuracy                           0.95      4200\n",
      "   macro avg       0.95      0.95      0.95      4200\n",
      "weighted avg       0.95      0.95      0.95      4200\n",
      "\n"
     ]
    },
    {
     "data": {
      "image/png": "[encoded data removed]",
      "text/plain": [
       "<Figure size 720x720 with 2 Axes>"
      ]
     },
     "metadata": {
      "needs_background": "light"
     },
     "output_type": "display_data"
    }
   ],
   "source": [
    "# Vendo alguns reports\n",
    "# Usando sklearn\n",
    "import numpy as np\n",
    "\n",
    "# Classificando toda base de teste\n",
    "y_pred = model.predict_classes(x_val)\n",
    "# voltando pro formato de classes\n",
    "y_test_c = np.argmax(y_val, axis=1)\n",
    "target_names = ['0', '1', '2', '3', '4', '5', '6', '7', '8', '9']\n",
    "\n",
    "#Confution Matrix\n",
    "cm = confusion_matrix(y_test_c, y_pred)\n",
    "plot_confusion_matrix(cm, target_names, normalize=False, title='Confusion Matrix')\n",
    "\n",
    "print('Classification Report')\n",
    "print(classification_report(y_test_c, y_pred, target_names=target_names))"
   ]
  },
  {
   "cell_type": "markdown",
   "metadata": {
    "papermill": {
     "duration": 0.351623,
     "end_time": "2023-07-13T19:23:54.206777",
     "exception": false,
     "start_time": "2023-07-13T19:23:53.855154",
     "status": "completed"
    },
    "tags": []
   },
   "source": [
    "# Gerando Saída"
   ]
  },
  {
   "cell_type": "code",
   "execution_count": 19,
   "metadata": {
    "execution": {
     "iopub.execute_input": "2023-07-13T19:23:54.909333Z",
     "iopub.status.busy": "2023-07-13T19:23:54.908310Z",
     "iopub.status.idle": "2023-07-13T19:23:58.001644Z",
     "shell.execute_reply": "2023-07-13T19:23:58.002229Z",
     "shell.execute_reply.started": "2023-07-13T19:19:02.616188Z"
    },
    "papermill": {
     "duration": 3.445773,
     "end_time": "2023-07-13T19:23:58.002395",
     "exception": false,
     "start_time": "2023-07-13T19:23:54.556622",
     "status": "completed"
    },
    "tags": []
   },
   "outputs": [
    {
     "name": "stdout",
     "output_type": "stream",
     "text": [
      "Qtde de testes: 28000\n"
     ]
    },
    {
     "data": {
      "image/png": "[encoded data removed]",
      "text/plain": [
       "<Figure size 432x288 with 1 Axes>"
      ]
     },
     "metadata": {
      "needs_background": "light"
     },
     "output_type": "display_data"
    },
    {
     "name": "stdout",
     "output_type": "stream",
     "text": [
      "Previsto: 2\n",
      "   ImageId  Label\n",
      "0        1      2\n",
      "1        2      0\n",
      "2        3      9\n",
      "3        4      9\n",
      "4        5      3\n",
      "5        6      7\n",
      "6        7      0\n",
      "7        8      3\n",
      "8        9      0\n",
      "9       10      3\n"
     ]
    }
   ],
   "source": [
    "# Gerando saída para dataset de teste\n",
    "\n",
    "#Carrega dataset de teste\n",
    "test = pd.read_csv(\"../input/digit-recognizer/test.csv\")\n",
    "print(\"Qtde de testes: {}\".format(len(test)))\n",
    "# Bota no formato numpy e normaliza\n",
    "x_test = test.values.reshape(len(test),784)\n",
    "x_test = x_test.astype('float32')\n",
    "x_test /= 255\n",
    "\n",
    "# Faz classificação para dataset de teste\n",
    "y_pred = model.predict_classes(x_test)\n",
    "\n",
    "# Verficando algum exemplo\n",
    "i = 0\n",
    "plt.imshow(test.values[i].reshape(28,28), cmap=plt.cm.binary)\n",
    "plt.show()\n",
    "print('Previsto: {}'.format(y_pred[i]))\n",
    "\n",
    "# Botando no formato de saída (competição Kaggle)\n",
    "results = pd.Series(y_pred,name=\"Label\")\n",
    "submission = pd.concat([pd.Series(range(1,len(y_pred)+1),name = \"ImageId\"),results],axis = 1)\n",
    "print(submission.head(10))\n",
    "#Salvando Arquivo\n",
    "submission.to_csv(\"mlp_mnist_v1.csv\",index=False)"
   ]
  },
  {
   "cell_type": "markdown",
   "metadata": {
    "papermill": {
     "duration": 0.353624,
     "end_time": "2023-07-13T19:23:58.709349",
     "exception": false,
     "start_time": "2023-07-13T19:23:58.355725",
     "status": "completed"
    },
    "tags": []
   },
   "source": [
    "# Teste Adicional: Com ruído"
   ]
  },
  {
   "cell_type": "code",
   "execution_count": 20,
   "metadata": {
    "execution": {
     "iopub.execute_input": "2023-07-13T19:23:59.424797Z",
     "iopub.status.busy": "2023-07-13T19:23:59.424066Z",
     "iopub.status.idle": "2023-07-13T19:24:00.007090Z",
     "shell.execute_reply": "2023-07-13T19:24:00.007649Z",
     "shell.execute_reply.started": "2023-07-13T19:19:15.282652Z"
    },
    "papermill": {
     "duration": 0.944283,
     "end_time": "2023-07-13T19:24:00.007825",
     "exception": false,
     "start_time": "2023-07-13T19:23:59.063542",
     "status": "completed"
    },
    "tags": []
   },
   "outputs": [
    {
     "data": {
      "image/png": "[encoded data removed]",
      "text/plain": [
       "<Figure size 432x288 with 1 Axes>"
      ]
     },
     "metadata": {
      "needs_background": "light"
     },
     "output_type": "display_data"
    },
    {
     "name": "stdout",
     "output_type": "stream",
     "text": [
      "Test loss: 5.46145628792899\n",
      "Test accuracy: 0.62666667\n"
     ]
    }
   ],
   "source": [
    "#introduzindo ruido\n",
    "import numpy as np\n",
    "mean = 0.\n",
    "stddev = 0.2\n",
    "noise = np.random.normal(mean, stddev, (4200, 784))\n",
    "x_te = x_val + noise\n",
    "x_te = np.clip(x_te, 0., 1.)\n",
    "\n",
    "plt.imshow(x_te.reshape(4200, 28,28)[0], cmap=plt.cm.binary)\n",
    "plt.show()\n",
    "\n",
    "# Testa\n",
    "score = model.evaluate(x_te, y_val, verbose=0)\n",
    "print('Test loss:', score[0])\n",
    "print('Test accuracy:', score[1])"
   ]
  },
  {
   "cell_type": "markdown",
   "metadata": {
    "papermill": {
     "duration": 0.349492,
     "end_time": "2023-07-13T19:24:00.707797",
     "exception": false,
     "start_time": "2023-07-13T19:24:00.358305",
     "status": "completed"
    },
    "tags": []
   },
   "source": [
    "Com ruído, percebemos que a acurácia dos exemplos de validação caiu muito. \n",
    "Uma MLP aprende a partir de pixels individuais.\n",
    "Um modelo Convolucional (CNN) captura melhor regiões, ou padrões espaciais de pixels.\n",
    "Veja o exemplo com CNN."
   ]
  },
  {
   "cell_type": "code",
   "execution_count": null,
   "metadata": {
    "papermill": {
     "duration": 0.351227,
     "end_time": "2023-07-13T19:24:01.414697",
     "exception": false,
     "start_time": "2023-07-13T19:24:01.063470",
     "status": "completed"
    },
    "tags": []
   },
   "outputs": [],
   "source": []
  }
 ],
 "metadata": {
  "kernelspec": {
   "display_name": "Python 3",
   "language": "python",
   "name": "python3"
  },
  "language_info": {
   "codemirror_mode": {
    "name": "ipython",
    "version": 3
   },
   "file_extension": ".py",
   "mimetype": "text/x-python",
   "name": "python",
   "nbconvert_exporter": "python",
   "pygments_lexer": "ipython3",
   "version": "3.7.6"
  },
  "papermill": {
   "duration": 88.403877,
   "end_time": "2023-07-13T19:24:01.873650",
   "environment_variables": {},
   "exception": null,
   "input_path": "__notebook__.ipynb",
   "output_path": "__notebook__.ipynb",
   "parameters": {},
   "start_time": "2023-07-13T19:22:33.469773",
   "version": "2.1.0"
  }
 },
 "nbformat": 4,
 "nbformat_minor": 4
}
